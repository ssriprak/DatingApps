{
 "cells": [
  {
   "cell_type": "code",
   "execution_count": 58,
   "id": "fd8a7011",
   "metadata": {},
   "outputs": [],
   "source": [
    "import pandas as pd\n",
    "import numpy as np\n",
    "import warnings\n",
    "warnings.filterwarnings(\"ignore\")\n",
    "import matplotlib.pyplot as plt\n",
    "%matplotlib inline\n",
    "import seaborn as sns\n",
    "from scipy import stats\n",
    "from scipy.stats import norm"
   ]
  },
  {
   "cell_type": "markdown",
   "id": "c88e352b",
   "metadata": {},
   "source": [
    "# Cleaning of data"
   ]
  },
  {
   "cell_type": "code",
   "execution_count": 59,
   "id": "66446c7e",
   "metadata": {},
   "outputs": [
    {
     "data": {
      "text/html": [
       "<div>\n",
       "<style scoped>\n",
       "    .dataframe tbody tr th:only-of-type {\n",
       "        vertical-align: middle;\n",
       "    }\n",
       "\n",
       "    .dataframe tbody tr th {\n",
       "        vertical-align: top;\n",
       "    }\n",
       "\n",
       "    .dataframe thead th {\n",
       "        text-align: right;\n",
       "    }\n",
       "</style>\n",
       "<table border=\"1\" class=\"dataframe\">\n",
       "  <thead>\n",
       "    <tr style=\"text-align: right;\">\n",
       "      <th></th>\n",
       "      <th>Name</th>\n",
       "      <th>Review</th>\n",
       "      <th>Rating</th>\n",
       "      <th>Year</th>\n",
       "      <th>App</th>\n",
       "    </tr>\n",
       "  </thead>\n",
       "  <tbody>\n",
       "    <tr>\n",
       "      <th>0</th>\n",
       "      <td>linah sibanda</td>\n",
       "      <td>On this app i cant find a partner</td>\n",
       "      <td>5</td>\n",
       "      <td>18-02-2022 01:19</td>\n",
       "      <td>Tinder</td>\n",
       "    </tr>\n",
       "    <tr>\n",
       "      <th>1</th>\n",
       "      <td>Norman Johnson</td>\n",
       "      <td>Tinder would be so much better if we could spe...</td>\n",
       "      <td>3</td>\n",
       "      <td>18-02-2022 01:16</td>\n",
       "      <td>Tinder</td>\n",
       "    </tr>\n",
       "    <tr>\n",
       "      <th>2</th>\n",
       "      <td>David Hume</td>\n",
       "      <td>Still doesn't correctly notify matches or mess...</td>\n",
       "      <td>1</td>\n",
       "      <td>18-02-2022 01:11</td>\n",
       "      <td>Tinder</td>\n",
       "    </tr>\n",
       "    <tr>\n",
       "      <th>3</th>\n",
       "      <td>Last 1 Standing</td>\n",
       "      <td>Got banned because I updated my bio to say \"I ...</td>\n",
       "      <td>2</td>\n",
       "      <td>18-02-2022 01:11</td>\n",
       "      <td>Tinder</td>\n",
       "    </tr>\n",
       "    <tr>\n",
       "      <th>4</th>\n",
       "      <td>Arthur Magamedov</td>\n",
       "      <td>Love it!</td>\n",
       "      <td>5</td>\n",
       "      <td>18-02-2022 01:06</td>\n",
       "      <td>Tinder</td>\n",
       "    </tr>\n",
       "    <tr>\n",
       "      <th>...</th>\n",
       "      <td>...</td>\n",
       "      <td>...</td>\n",
       "      <td>...</td>\n",
       "      <td>...</td>\n",
       "      <td>...</td>\n",
       "    </tr>\n",
       "    <tr>\n",
       "      <th>52989</th>\n",
       "      <td>A Google user</td>\n",
       "      <td>Useless - I'm in the UK and it tells me i'm ov...</td>\n",
       "      <td>2</td>\n",
       "      <td>12-07-2017 01:44</td>\n",
       "      <td>Hinge</td>\n",
       "    </tr>\n",
       "    <tr>\n",
       "      <th>52990</th>\n",
       "      <td>Brian Shook</td>\n",
       "      <td>I can't get past the initial set up.  It won't...</td>\n",
       "      <td>1</td>\n",
       "      <td>12-07-2017 01:36</td>\n",
       "      <td>Hinge</td>\n",
       "    </tr>\n",
       "    <tr>\n",
       "      <th>52991</th>\n",
       "      <td>A Google user</td>\n",
       "      <td>This is incredible! A quality dating app for A...</td>\n",
       "      <td>5</td>\n",
       "      <td>12-07-2017 01:32</td>\n",
       "      <td>Hinge</td>\n",
       "    </tr>\n",
       "    <tr>\n",
       "      <th>52992</th>\n",
       "      <td>A Google user</td>\n",
       "      <td>\"Over Water\" ... Can't choose location.</td>\n",
       "      <td>2</td>\n",
       "      <td>12-07-2017 01:28</td>\n",
       "      <td>Hinge</td>\n",
       "    </tr>\n",
       "    <tr>\n",
       "      <th>52993</th>\n",
       "      <td>Dylan Fick</td>\n",
       "      <td>My entire town counts as \"over water\" and I ca...</td>\n",
       "      <td>2</td>\n",
       "      <td>12-07-2017 01:24</td>\n",
       "      <td>Hinge</td>\n",
       "    </tr>\n",
       "  </tbody>\n",
       "</table>\n",
       "<p>681994 rows × 5 columns</p>\n",
       "</div>"
      ],
      "text/plain": [
       "                   Name                                             Review  \\\n",
       "0         linah sibanda                  On this app i cant find a partner   \n",
       "1        Norman Johnson  Tinder would be so much better if we could spe...   \n",
       "2            David Hume  Still doesn't correctly notify matches or mess...   \n",
       "3       Last 1 Standing  Got banned because I updated my bio to say \"I ...   \n",
       "4      Arthur Magamedov                                           Love it!   \n",
       "...                 ...                                                ...   \n",
       "52989     A Google user  Useless - I'm in the UK and it tells me i'm ov...   \n",
       "52990       Brian Shook  I can't get past the initial set up.  It won't...   \n",
       "52991     A Google user  This is incredible! A quality dating app for A...   \n",
       "52992     A Google user            \"Over Water\" ... Can't choose location.   \n",
       "52993        Dylan Fick  My entire town counts as \"over water\" and I ca...   \n",
       "\n",
       "       Rating              Year     App  \n",
       "0           5  18-02-2022 01:19  Tinder  \n",
       "1           3  18-02-2022 01:16  Tinder  \n",
       "2           1  18-02-2022 01:11  Tinder  \n",
       "3           2  18-02-2022 01:11  Tinder  \n",
       "4           5  18-02-2022 01:06  Tinder  \n",
       "...       ...               ...     ...  \n",
       "52989       2  12-07-2017 01:44   Hinge  \n",
       "52990       1  12-07-2017 01:36   Hinge  \n",
       "52991       5  12-07-2017 01:32   Hinge  \n",
       "52992       2  12-07-2017 01:28   Hinge  \n",
       "52993       2  12-07-2017 01:24   Hinge  \n",
       "\n",
       "[681994 rows x 5 columns]"
      ]
     },
     "execution_count": 59,
     "metadata": {},
     "output_type": "execute_result"
    }
   ],
   "source": [
    "datingApp = pd.read_csv('DatingAppReviewsDataset.csv', index_col=0)\n",
    "datingApp = datingApp.drop(columns=['#ThumbsUp'], errors='ignore')\n",
    "datingApp.rename(columns={'Date&Time': 'Year'}, inplace=True)\n",
    "datingApp"
   ]
  },
  {
   "cell_type": "code",
   "execution_count": 60,
   "id": "9ae73664",
   "metadata": {},
   "outputs": [
    {
     "data": {
      "text/html": [
       "<div>\n",
       "<style scoped>\n",
       "    .dataframe tbody tr th:only-of-type {\n",
       "        vertical-align: middle;\n",
       "    }\n",
       "\n",
       "    .dataframe tbody tr th {\n",
       "        vertical-align: top;\n",
       "    }\n",
       "\n",
       "    .dataframe thead th {\n",
       "        text-align: right;\n",
       "    }\n",
       "</style>\n",
       "<table border=\"1\" class=\"dataframe\">\n",
       "  <thead>\n",
       "    <tr style=\"text-align: right;\">\n",
       "      <th></th>\n",
       "      <th>Name</th>\n",
       "      <th>Review</th>\n",
       "      <th>Rating</th>\n",
       "      <th>Year</th>\n",
       "      <th>App</th>\n",
       "    </tr>\n",
       "  </thead>\n",
       "  <tbody>\n",
       "    <tr>\n",
       "      <th>0</th>\n",
       "      <td>linah sibanda</td>\n",
       "      <td>On this app i cant find a partner</td>\n",
       "      <td>5</td>\n",
       "      <td>2022</td>\n",
       "      <td>Tinder</td>\n",
       "    </tr>\n",
       "    <tr>\n",
       "      <th>1</th>\n",
       "      <td>Norman Johnson</td>\n",
       "      <td>Tinder would be so much better if we could spe...</td>\n",
       "      <td>3</td>\n",
       "      <td>2022</td>\n",
       "      <td>Tinder</td>\n",
       "    </tr>\n",
       "    <tr>\n",
       "      <th>2</th>\n",
       "      <td>David Hume</td>\n",
       "      <td>Still doesn't correctly notify matches or mess...</td>\n",
       "      <td>1</td>\n",
       "      <td>2022</td>\n",
       "      <td>Tinder</td>\n",
       "    </tr>\n",
       "    <tr>\n",
       "      <th>3</th>\n",
       "      <td>Last 1 Standing</td>\n",
       "      <td>Got banned because I updated my bio to say \"I ...</td>\n",
       "      <td>2</td>\n",
       "      <td>2022</td>\n",
       "      <td>Tinder</td>\n",
       "    </tr>\n",
       "    <tr>\n",
       "      <th>4</th>\n",
       "      <td>Arthur Magamedov</td>\n",
       "      <td>Love it!</td>\n",
       "      <td>5</td>\n",
       "      <td>2022</td>\n",
       "      <td>Tinder</td>\n",
       "    </tr>\n",
       "    <tr>\n",
       "      <th>...</th>\n",
       "      <td>...</td>\n",
       "      <td>...</td>\n",
       "      <td>...</td>\n",
       "      <td>...</td>\n",
       "      <td>...</td>\n",
       "    </tr>\n",
       "    <tr>\n",
       "      <th>52989</th>\n",
       "      <td>A Google user</td>\n",
       "      <td>Useless - I'm in the UK and it tells me i'm ov...</td>\n",
       "      <td>2</td>\n",
       "      <td>2017</td>\n",
       "      <td>Hinge</td>\n",
       "    </tr>\n",
       "    <tr>\n",
       "      <th>52990</th>\n",
       "      <td>Brian Shook</td>\n",
       "      <td>I can't get past the initial set up.  It won't...</td>\n",
       "      <td>1</td>\n",
       "      <td>2017</td>\n",
       "      <td>Hinge</td>\n",
       "    </tr>\n",
       "    <tr>\n",
       "      <th>52991</th>\n",
       "      <td>A Google user</td>\n",
       "      <td>This is incredible! A quality dating app for A...</td>\n",
       "      <td>5</td>\n",
       "      <td>2017</td>\n",
       "      <td>Hinge</td>\n",
       "    </tr>\n",
       "    <tr>\n",
       "      <th>52992</th>\n",
       "      <td>A Google user</td>\n",
       "      <td>\"Over Water\" ... Can't choose location.</td>\n",
       "      <td>2</td>\n",
       "      <td>2017</td>\n",
       "      <td>Hinge</td>\n",
       "    </tr>\n",
       "    <tr>\n",
       "      <th>52993</th>\n",
       "      <td>Dylan Fick</td>\n",
       "      <td>My entire town counts as \"over water\" and I ca...</td>\n",
       "      <td>2</td>\n",
       "      <td>2017</td>\n",
       "      <td>Hinge</td>\n",
       "    </tr>\n",
       "  </tbody>\n",
       "</table>\n",
       "<p>681994 rows × 5 columns</p>\n",
       "</div>"
      ],
      "text/plain": [
       "                   Name                                             Review  \\\n",
       "0         linah sibanda                  On this app i cant find a partner   \n",
       "1        Norman Johnson  Tinder would be so much better if we could spe...   \n",
       "2            David Hume  Still doesn't correctly notify matches or mess...   \n",
       "3       Last 1 Standing  Got banned because I updated my bio to say \"I ...   \n",
       "4      Arthur Magamedov                                           Love it!   \n",
       "...                 ...                                                ...   \n",
       "52989     A Google user  Useless - I'm in the UK and it tells me i'm ov...   \n",
       "52990       Brian Shook  I can't get past the initial set up.  It won't...   \n",
       "52991     A Google user  This is incredible! A quality dating app for A...   \n",
       "52992     A Google user            \"Over Water\" ... Can't choose location.   \n",
       "52993        Dylan Fick  My entire town counts as \"over water\" and I ca...   \n",
       "\n",
       "       Rating  Year     App  \n",
       "0           5  2022  Tinder  \n",
       "1           3  2022  Tinder  \n",
       "2           1  2022  Tinder  \n",
       "3           2  2022  Tinder  \n",
       "4           5  2022  Tinder  \n",
       "...       ...   ...     ...  \n",
       "52989       2  2017   Hinge  \n",
       "52990       1  2017   Hinge  \n",
       "52991       5  2017   Hinge  \n",
       "52992       2  2017   Hinge  \n",
       "52993       2  2017   Hinge  \n",
       "\n",
       "[681994 rows x 5 columns]"
      ]
     },
     "execution_count": 60,
     "metadata": {},
     "output_type": "execute_result"
    }
   ],
   "source": [
    "datingApp['Year'] = pd.to_datetime(datingApp['Year'], errors='coerce').dt.year\n",
    "datingApp"
   ]
  },
  {
   "cell_type": "markdown",
   "id": "3abf291a",
   "metadata": {},
   "source": [
    "Remove null values and drop duplicates"
   ]
  },
  {
   "cell_type": "code",
   "execution_count": 61,
   "id": "0989619b",
   "metadata": {},
   "outputs": [],
   "source": [
    "datingApp = datingApp.dropna().reset_index(drop=True)\n",
    "datingApp.drop_duplicates(inplace=True)\n",
    "datingApp = datingApp.reset_index(drop=True)"
   ]
  },
  {
   "cell_type": "code",
   "execution_count": 62,
   "id": "31884bdd",
   "metadata": {},
   "outputs": [
    {
     "data": {
      "text/html": [
       "<div>\n",
       "<style scoped>\n",
       "    .dataframe tbody tr th:only-of-type {\n",
       "        vertical-align: middle;\n",
       "    }\n",
       "\n",
       "    .dataframe tbody tr th {\n",
       "        vertical-align: top;\n",
       "    }\n",
       "\n",
       "    .dataframe thead th {\n",
       "        text-align: right;\n",
       "    }\n",
       "</style>\n",
       "<table border=\"1\" class=\"dataframe\">\n",
       "  <thead>\n",
       "    <tr style=\"text-align: right;\">\n",
       "      <th></th>\n",
       "      <th>Name</th>\n",
       "      <th>Review</th>\n",
       "      <th>Rating</th>\n",
       "      <th>Year</th>\n",
       "      <th>App</th>\n",
       "    </tr>\n",
       "  </thead>\n",
       "  <tbody>\n",
       "    <tr>\n",
       "      <th>0</th>\n",
       "      <td>linah sibanda</td>\n",
       "      <td>On this app i cant find a partner</td>\n",
       "      <td>5</td>\n",
       "      <td>2022</td>\n",
       "      <td>Tinder</td>\n",
       "    </tr>\n",
       "    <tr>\n",
       "      <th>1</th>\n",
       "      <td>Norman Johnson</td>\n",
       "      <td>Tinder would be so much better if we could spe...</td>\n",
       "      <td>3</td>\n",
       "      <td>2022</td>\n",
       "      <td>Tinder</td>\n",
       "    </tr>\n",
       "    <tr>\n",
       "      <th>2</th>\n",
       "      <td>David Hume</td>\n",
       "      <td>Still doesn't correctly notify matches or mess...</td>\n",
       "      <td>1</td>\n",
       "      <td>2022</td>\n",
       "      <td>Tinder</td>\n",
       "    </tr>\n",
       "    <tr>\n",
       "      <th>3</th>\n",
       "      <td>Last 1 Standing</td>\n",
       "      <td>Got banned because I updated my bio to say \"I ...</td>\n",
       "      <td>2</td>\n",
       "      <td>2022</td>\n",
       "      <td>Tinder</td>\n",
       "    </tr>\n",
       "    <tr>\n",
       "      <th>4</th>\n",
       "      <td>Arthur Magamedov</td>\n",
       "      <td>Love it!</td>\n",
       "      <td>5</td>\n",
       "      <td>2022</td>\n",
       "      <td>Tinder</td>\n",
       "    </tr>\n",
       "  </tbody>\n",
       "</table>\n",
       "</div>"
      ],
      "text/plain": [
       "               Name                                             Review  \\\n",
       "0     linah sibanda                  On this app i cant find a partner   \n",
       "1    Norman Johnson  Tinder would be so much better if we could spe...   \n",
       "2        David Hume  Still doesn't correctly notify matches or mess...   \n",
       "3   Last 1 Standing  Got banned because I updated my bio to say \"I ...   \n",
       "4  Arthur Magamedov                                           Love it!   \n",
       "\n",
       "   Rating  Year     App  \n",
       "0       5  2022  Tinder  \n",
       "1       3  2022  Tinder  \n",
       "2       1  2022  Tinder  \n",
       "3       2  2022  Tinder  \n",
       "4       5  2022  Tinder  "
      ]
     },
     "execution_count": 62,
     "metadata": {},
     "output_type": "execute_result"
    }
   ],
   "source": [
    "datingApp.head()"
   ]
  },
  {
   "cell_type": "code",
   "execution_count": 63,
   "id": "58787424",
   "metadata": {},
   "outputs": [
    {
     "data": {
      "text/plain": [
       "(672619, 5)"
      ]
     },
     "execution_count": 63,
     "metadata": {},
     "output_type": "execute_result"
    }
   ],
   "source": [
    "datingApp.shape"
   ]
  },
  {
   "cell_type": "code",
   "execution_count": 64,
   "id": "f6e78d81",
   "metadata": {},
   "outputs": [
    {
     "data": {
      "text/plain": [
       "Name      object\n",
       "Review    object\n",
       "Rating     int64\n",
       "Year       int32\n",
       "App       object\n",
       "dtype: object"
      ]
     },
     "execution_count": 64,
     "metadata": {},
     "output_type": "execute_result"
    }
   ],
   "source": [
    "datingApp.dtypes"
   ]
  },
  {
   "cell_type": "markdown",
   "id": "7af4fd8f",
   "metadata": {},
   "source": [
    "# Analysing data and Reviews"
   ]
  },
  {
   "cell_type": "code",
   "execution_count": 65,
   "id": "26ebd3b8",
   "metadata": {},
   "outputs": [
    {
     "name": "stdout",
     "output_type": "stream",
     "text": [
      "Rating value count: \n",
      "Rating\n",
      "1    251516\n",
      "5    226031\n",
      "4     86225\n",
      "3     56644\n",
      "2     52202\n",
      "0         1\n",
      "Name: count, dtype: int64\n"
     ]
    }
   ],
   "source": [
    "#Distinct values of 'rating' and its count  \n",
    "print(f\"Rating value count: \\n{datingApp['Rating'].value_counts()}\")"
   ]
  },
  {
   "cell_type": "code",
   "execution_count": 66,
   "id": "3dc7a085",
   "metadata": {},
   "outputs": [
    {
     "name": "stdout",
     "output_type": "stream",
     "text": [
      "App value count: \n",
      "App\n",
      "Tinder    517709\n",
      "Bumble    102092\n",
      "Hinge      52818\n",
      "Name: count, dtype: int64\n"
     ]
    }
   ],
   "source": [
    "print(f\"App value count: \\n{datingApp['App'].value_counts()}\")"
   ]
  },
  {
   "cell_type": "code",
   "execution_count": 67,
   "id": "49c228e3",
   "metadata": {},
   "outputs": [
    {
     "data": {
      "image/png": "[encoded data removed]",
      "text/plain": [
       "<Figure size 800x500 with 1 Axes>"
      ]
     },
     "metadata": {},
     "output_type": "display_data"
    }
   ],
   "source": [
    "# Count the number of users per app\n",
    "user_counts = datingApp['App'].value_counts().reset_index()\n",
    "user_counts.columns = ['App', 'User Count']\n",
    "\n",
    "# Plot the bar chart using Seaborn\n",
    "plt.figure(figsize=(8, 5))\n",
    "sns.barplot(data=user_counts, x='App', y='User Count', palette='flare')\n",
    "\n",
    "# Add titles and labels\n",
    "plt.title(\"Number of Users per App\", fontsize=14)\n",
    "plt.xlabel(\"App\", fontsize=12)\n",
    "plt.ylabel(\"Number of Users\", fontsize=12)\n",
    "plt.xticks(rotation=0)\n",
    "\n",
    "# Display the plot\n",
    "plt.tight_layout()\n",
    "plt.show()"
   ]
  },
  {
   "cell_type": "code",
   "execution_count": 68,
   "id": "17ac0b58",
   "metadata": {},
   "outputs": [
    {
     "name": "stdout",
     "output_type": "stream",
     "text": [
      "Ratings by App:\n",
      "Rating  0       1      2      3      4       5\n",
      "App                                           \n",
      "Bumble  0   40400   9672   8832  13558   29630\n",
      "Hinge   0   15918   4508   5283   8605   18504\n",
      "Tinder  1  195198  38022  42529  64062  177897\n"
     ]
    }
   ],
   "source": [
    "ratings_by_app = datingApp.groupby(['App', 'Rating']).size().unstack(fill_value=0)\n",
    "print(\"Ratings by App:\")\n",
    "print(ratings_by_app)"
   ]
  },
  {
   "cell_type": "code",
   "execution_count": 69,
   "id": "3bc3905f",
   "metadata": {},
   "outputs": [
    {
     "data": {
      "text/html": [
       "<div>\n",
       "<style scoped>\n",
       "    .dataframe tbody tr th:only-of-type {\n",
       "        vertical-align: middle;\n",
       "    }\n",
       "\n",
       "    .dataframe tbody tr th {\n",
       "        vertical-align: top;\n",
       "    }\n",
       "\n",
       "    .dataframe thead th {\n",
       "        text-align: right;\n",
       "    }\n",
       "</style>\n",
       "<table border=\"1\" class=\"dataframe\">\n",
       "  <thead>\n",
       "    <tr style=\"text-align: right;\">\n",
       "      <th></th>\n",
       "      <th>Name</th>\n",
       "      <th>Review</th>\n",
       "      <th>Rating</th>\n",
       "      <th>Year</th>\n",
       "      <th>App</th>\n",
       "    </tr>\n",
       "  </thead>\n",
       "  <tbody>\n",
       "    <tr>\n",
       "      <th>0</th>\n",
       "      <td>linah sibanda</td>\n",
       "      <td>On this app i cant find a partner</td>\n",
       "      <td>5</td>\n",
       "      <td>2022</td>\n",
       "      <td>Tinder</td>\n",
       "    </tr>\n",
       "    <tr>\n",
       "      <th>1</th>\n",
       "      <td>Norman Johnson</td>\n",
       "      <td>Tinder would be so much better if we could spe...</td>\n",
       "      <td>3</td>\n",
       "      <td>2022</td>\n",
       "      <td>Tinder</td>\n",
       "    </tr>\n",
       "    <tr>\n",
       "      <th>2</th>\n",
       "      <td>David Hume</td>\n",
       "      <td>Still doesn't correctly notify matches or mess...</td>\n",
       "      <td>1</td>\n",
       "      <td>2022</td>\n",
       "      <td>Tinder</td>\n",
       "    </tr>\n",
       "    <tr>\n",
       "      <th>3</th>\n",
       "      <td>Last 1 Standing</td>\n",
       "      <td>Got banned because I updated my bio to say \"I ...</td>\n",
       "      <td>2</td>\n",
       "      <td>2022</td>\n",
       "      <td>Tinder</td>\n",
       "    </tr>\n",
       "    <tr>\n",
       "      <th>4</th>\n",
       "      <td>Arthur Magamedov</td>\n",
       "      <td>Love it!</td>\n",
       "      <td>5</td>\n",
       "      <td>2022</td>\n",
       "      <td>Tinder</td>\n",
       "    </tr>\n",
       "    <tr>\n",
       "      <th>...</th>\n",
       "      <td>...</td>\n",
       "      <td>...</td>\n",
       "      <td>...</td>\n",
       "      <td>...</td>\n",
       "      <td>...</td>\n",
       "    </tr>\n",
       "    <tr>\n",
       "      <th>672613</th>\n",
       "      <td>A Google user</td>\n",
       "      <td>Useless - I'm in the UK and it tells me i'm ov...</td>\n",
       "      <td>2</td>\n",
       "      <td>2017</td>\n",
       "      <td>Hinge</td>\n",
       "    </tr>\n",
       "    <tr>\n",
       "      <th>672614</th>\n",
       "      <td>Brian Shook</td>\n",
       "      <td>I can't get past the initial set up.  It won't...</td>\n",
       "      <td>1</td>\n",
       "      <td>2017</td>\n",
       "      <td>Hinge</td>\n",
       "    </tr>\n",
       "    <tr>\n",
       "      <th>672615</th>\n",
       "      <td>A Google user</td>\n",
       "      <td>This is incredible! A quality dating app for A...</td>\n",
       "      <td>5</td>\n",
       "      <td>2017</td>\n",
       "      <td>Hinge</td>\n",
       "    </tr>\n",
       "    <tr>\n",
       "      <th>672616</th>\n",
       "      <td>A Google user</td>\n",
       "      <td>\"Over Water\" ... Can't choose location.</td>\n",
       "      <td>2</td>\n",
       "      <td>2017</td>\n",
       "      <td>Hinge</td>\n",
       "    </tr>\n",
       "    <tr>\n",
       "      <th>672617</th>\n",
       "      <td>Dylan Fick</td>\n",
       "      <td>My entire town counts as \"over water\" and I ca...</td>\n",
       "      <td>2</td>\n",
       "      <td>2017</td>\n",
       "      <td>Hinge</td>\n",
       "    </tr>\n",
       "  </tbody>\n",
       "</table>\n",
       "<p>672618 rows × 5 columns</p>\n",
       "</div>"
      ],
      "text/plain": [
       "                    Name                                             Review  \\\n",
       "0          linah sibanda                  On this app i cant find a partner   \n",
       "1         Norman Johnson  Tinder would be so much better if we could spe...   \n",
       "2             David Hume  Still doesn't correctly notify matches or mess...   \n",
       "3        Last 1 Standing  Got banned because I updated my bio to say \"I ...   \n",
       "4       Arthur Magamedov                                           Love it!   \n",
       "...                  ...                                                ...   \n",
       "672613     A Google user  Useless - I'm in the UK and it tells me i'm ov...   \n",
       "672614       Brian Shook  I can't get past the initial set up.  It won't...   \n",
       "672615     A Google user  This is incredible! A quality dating app for A...   \n",
       "672616     A Google user            \"Over Water\" ... Can't choose location.   \n",
       "672617        Dylan Fick  My entire town counts as \"over water\" and I ca...   \n",
       "\n",
       "        Rating  Year     App  \n",
       "0            5  2022  Tinder  \n",
       "1            3  2022  Tinder  \n",
       "2            1  2022  Tinder  \n",
       "3            2  2022  Tinder  \n",
       "4            5  2022  Tinder  \n",
       "...        ...   ...     ...  \n",
       "672613       2  2017   Hinge  \n",
       "672614       1  2017   Hinge  \n",
       "672615       5  2017   Hinge  \n",
       "672616       2  2017   Hinge  \n",
       "672617       2  2017   Hinge  \n",
       "\n",
       "[672618 rows x 5 columns]"
      ]
     },
     "execution_count": 69,
     "metadata": {},
     "output_type": "execute_result"
    }
   ],
   "source": [
    "#there is a 0 rating for tinder which is not possible, we need to remove it\n",
    "datingApp = datingApp[datingApp['Rating'] != 0]\n",
    "datingApp.reset_index(drop=True, inplace=True)\n",
    "datingApp"
   ]
  },
  {
   "cell_type": "code",
   "execution_count": 70,
   "id": "47c9882e",
   "metadata": {},
   "outputs": [
    {
     "name": "stdout",
     "output_type": "stream",
     "text": [
      "Rating       1      2      3      4       5\n",
      "App                                        \n",
      "Bumble   40400   9672   8832  13558   29630\n",
      "Hinge    15918   4508   5283   8605   18504\n",
      "Tinder  195198  38022  42529  64062  177897\n"
     ]
    }
   ],
   "source": [
    "ratings_by_app = datingApp.groupby(['App', 'Rating']).size().unstack(fill_value=0)\n",
    "print(ratings_by_app)"
   ]
  },
  {
   "cell_type": "code",
   "execution_count": 71,
   "id": "a2618e79",
   "metadata": {},
   "outputs": [
    {
     "data": {
      "image/png": "[encoded data removed]",
      "text/plain": [
       "<Figure size 1000x600 with 1 Axes>"
      ]
     },
     "metadata": {},
     "output_type": "display_data"
    }
   ],
   "source": [
    "# Ensure `ratings_by_app` is in long format for Seaborn\n",
    "ratings_by_app_long = ratings_by_app.reset_index().melt(\n",
    "    id_vars=['App'], var_name='Rating', value_name='Count'\n",
    ")\n",
    "\n",
    "# Create a grouped bar plot\n",
    "plt.figure(figsize=(10, 6))\n",
    "sns.barplot(\n",
    "    data=ratings_by_app_long,\n",
    "    x='App',\n",
    "    y='Count',\n",
    "    hue='Rating',\n",
    "    palette='flare'\n",
    ")\n",
    "\n",
    "# Add titles and labels\n",
    "plt.title(\"Ratings Distribution by App\", fontsize=14)\n",
    "plt.xlabel(\"App\", fontsize=12)\n",
    "plt.ylabel(\"Number of Ratings\", fontsize=12)\n",
    "plt.xticks(rotation=0)\n",
    "plt.legend(title=\"Rating\", loc=\"upper right\")\n",
    "\n",
    "# Display the plot\n",
    "plt.tight_layout()\n",
    "plt.show()"
   ]
  },
  {
   "cell_type": "markdown",
   "id": "8280f374",
   "metadata": {},
   "source": [
    "As an overview, we can see that tinder has a lot of 1 star reviews which is not a good sign as a dating app. People are not enjoying it. Same with Hinge and Bumble where 1 star reviews are more than the 5 star ones.\n",
    "This does not necessarily mean they are all bad. Let's delve more into it."
   ]
  },
  {
   "cell_type": "markdown",
   "id": "ae65bcaa",
   "metadata": {},
   "source": [
    "**We can see that an overwhelming majority of ratings are for *Tinder* and *Hinge and Bumble* have very less amount of ratings. If we use this to derive conclusions about these dating apps, there is an introduction of inherent bias considering the staggering number of tinder users. Hence we need to normalize this data**"
   ]
  },
  {
   "cell_type": "code",
   "execution_count": 72,
   "id": "e3b2fc3c",
   "metadata": {},
   "outputs": [],
   "source": [
    "import re\n",
    "def clean_text_simple(text):\n",
    "    # Remove emojis and special characters\n",
    "    text = re.sub(r'[^\\w\\s]', '', text)\n",
    "    \n",
    "    # Convert to lowercase\n",
    "    text = text.lower()\n",
    "    \n",
    "    # Remove extra whitespace\n",
    "    text = ' '.join(text.split())\n",
    "    \n",
    "    return text\n",
    "\n",
    "datingApp['cleaned_review'] = datingApp['Review'].apply(clean_text_simple)"
   ]
  },
  {
   "cell_type": "code",
   "execution_count": 73,
   "id": "4243bd8d",
   "metadata": {},
   "outputs": [
    {
     "name": "stdout",
     "output_type": "stream",
     "text": [
      "                      Name Review  Rating  Year     App cleaned_review\n",
      "13             ayush singh     😜😛       1  2022  Tinder               \n",
      "566      Upender Shekhawat      👍       5  2022  Tinder               \n",
      "616     Muyiwa Praiseworth     🔥🔥       5  2022  Tinder               \n",
      "631             Andy irish      🌻       5  2022  Tinder               \n",
      "747           Lijo Vitalis      😋       5  2022  Tinder               \n",
      "...                    ...    ...     ...   ...     ...            ...\n",
      "669733      David Marowitz      👌       5  2018   Hinge               \n",
      "669989         David Lewis      👍       5  2018   Hinge               \n",
      "670174          Kris stedy    👉👌🙈       5  2018   Hinge               \n",
      "670629           Mike Long    👍👍👍       5  2018   Hinge               \n",
      "671274          Lalit Soni      👍       5  2018   Hinge               \n",
      "\n",
      "[4954 rows x 6 columns]\n"
     ]
    }
   ],
   "source": [
    "print(datingApp[datingApp['cleaned_review']==''])"
   ]
  },
  {
   "cell_type": "code",
   "execution_count": 74,
   "id": "c1f3f203",
   "metadata": {},
   "outputs": [
    {
     "data": {
      "text/html": [
       "<div>\n",
       "<style scoped>\n",
       "    .dataframe tbody tr th:only-of-type {\n",
       "        vertical-align: middle;\n",
       "    }\n",
       "\n",
       "    .dataframe tbody tr th {\n",
       "        vertical-align: top;\n",
       "    }\n",
       "\n",
       "    .dataframe thead th {\n",
       "        text-align: right;\n",
       "    }\n",
       "</style>\n",
       "<table border=\"1\" class=\"dataframe\">\n",
       "  <thead>\n",
       "    <tr style=\"text-align: right;\">\n",
       "      <th></th>\n",
       "      <th>Name</th>\n",
       "      <th>Review</th>\n",
       "      <th>Rating</th>\n",
       "      <th>Year</th>\n",
       "      <th>App</th>\n",
       "      <th>cleaned_review</th>\n",
       "    </tr>\n",
       "  </thead>\n",
       "  <tbody>\n",
       "    <tr>\n",
       "      <th>0</th>\n",
       "      <td>linah sibanda</td>\n",
       "      <td>On this app i cant find a partner</td>\n",
       "      <td>5</td>\n",
       "      <td>2022</td>\n",
       "      <td>Tinder</td>\n",
       "      <td>on this app i cant find a partner</td>\n",
       "    </tr>\n",
       "    <tr>\n",
       "      <th>1</th>\n",
       "      <td>Norman Johnson</td>\n",
       "      <td>Tinder would be so much better if we could spe...</td>\n",
       "      <td>3</td>\n",
       "      <td>2022</td>\n",
       "      <td>Tinder</td>\n",
       "      <td>tinder would be so much better if we could spe...</td>\n",
       "    </tr>\n",
       "    <tr>\n",
       "      <th>2</th>\n",
       "      <td>David Hume</td>\n",
       "      <td>Still doesn't correctly notify matches or mess...</td>\n",
       "      <td>1</td>\n",
       "      <td>2022</td>\n",
       "      <td>Tinder</td>\n",
       "      <td>still doesnt correctly notify matches or messa...</td>\n",
       "    </tr>\n",
       "    <tr>\n",
       "      <th>3</th>\n",
       "      <td>Last 1 Standing</td>\n",
       "      <td>Got banned because I updated my bio to say \"I ...</td>\n",
       "      <td>2</td>\n",
       "      <td>2022</td>\n",
       "      <td>Tinder</td>\n",
       "      <td>got banned because i updated my bio to say i f...</td>\n",
       "    </tr>\n",
       "    <tr>\n",
       "      <th>4</th>\n",
       "      <td>Arthur Magamedov</td>\n",
       "      <td>Love it!</td>\n",
       "      <td>5</td>\n",
       "      <td>2022</td>\n",
       "      <td>Tinder</td>\n",
       "      <td>love it</td>\n",
       "    </tr>\n",
       "    <tr>\n",
       "      <th>...</th>\n",
       "      <td>...</td>\n",
       "      <td>...</td>\n",
       "      <td>...</td>\n",
       "      <td>...</td>\n",
       "      <td>...</td>\n",
       "      <td>...</td>\n",
       "    </tr>\n",
       "    <tr>\n",
       "      <th>672613</th>\n",
       "      <td>A Google user</td>\n",
       "      <td>Useless - I'm in the UK and it tells me i'm ov...</td>\n",
       "      <td>2</td>\n",
       "      <td>2017</td>\n",
       "      <td>Hinge</td>\n",
       "      <td>useless im in the uk and it tells me im over w...</td>\n",
       "    </tr>\n",
       "    <tr>\n",
       "      <th>672614</th>\n",
       "      <td>Brian Shook</td>\n",
       "      <td>I can't get past the initial set up.  It won't...</td>\n",
       "      <td>1</td>\n",
       "      <td>2017</td>\n",
       "      <td>Hinge</td>\n",
       "      <td>i cant get past the initial set up it wont set...</td>\n",
       "    </tr>\n",
       "    <tr>\n",
       "      <th>672615</th>\n",
       "      <td>A Google user</td>\n",
       "      <td>This is incredible! A quality dating app for A...</td>\n",
       "      <td>5</td>\n",
       "      <td>2017</td>\n",
       "      <td>Hinge</td>\n",
       "      <td>this is incredible a quality dating app for an...</td>\n",
       "    </tr>\n",
       "    <tr>\n",
       "      <th>672616</th>\n",
       "      <td>A Google user</td>\n",
       "      <td>\"Over Water\" ... Can't choose location.</td>\n",
       "      <td>2</td>\n",
       "      <td>2017</td>\n",
       "      <td>Hinge</td>\n",
       "      <td>over water cant choose location</td>\n",
       "    </tr>\n",
       "    <tr>\n",
       "      <th>672617</th>\n",
       "      <td>Dylan Fick</td>\n",
       "      <td>My entire town counts as \"over water\" and I ca...</td>\n",
       "      <td>2</td>\n",
       "      <td>2017</td>\n",
       "      <td>Hinge</td>\n",
       "      <td>my entire town counts as over water and i cann...</td>\n",
       "    </tr>\n",
       "  </tbody>\n",
       "</table>\n",
       "<p>667664 rows × 6 columns</p>\n",
       "</div>"
      ],
      "text/plain": [
       "                    Name                                             Review  \\\n",
       "0          linah sibanda                  On this app i cant find a partner   \n",
       "1         Norman Johnson  Tinder would be so much better if we could spe...   \n",
       "2             David Hume  Still doesn't correctly notify matches or mess...   \n",
       "3        Last 1 Standing  Got banned because I updated my bio to say \"I ...   \n",
       "4       Arthur Magamedov                                           Love it!   \n",
       "...                  ...                                                ...   \n",
       "672613     A Google user  Useless - I'm in the UK and it tells me i'm ov...   \n",
       "672614       Brian Shook  I can't get past the initial set up.  It won't...   \n",
       "672615     A Google user  This is incredible! A quality dating app for A...   \n",
       "672616     A Google user            \"Over Water\" ... Can't choose location.   \n",
       "672617        Dylan Fick  My entire town counts as \"over water\" and I ca...   \n",
       "\n",
       "        Rating  Year     App  \\\n",
       "0            5  2022  Tinder   \n",
       "1            3  2022  Tinder   \n",
       "2            1  2022  Tinder   \n",
       "3            2  2022  Tinder   \n",
       "4            5  2022  Tinder   \n",
       "...        ...   ...     ...   \n",
       "672613       2  2017   Hinge   \n",
       "672614       1  2017   Hinge   \n",
       "672615       5  2017   Hinge   \n",
       "672616       2  2017   Hinge   \n",
       "672617       2  2017   Hinge   \n",
       "\n",
       "                                           cleaned_review  \n",
       "0                       on this app i cant find a partner  \n",
       "1       tinder would be so much better if we could spe...  \n",
       "2       still doesnt correctly notify matches or messa...  \n",
       "3       got banned because i updated my bio to say i f...  \n",
       "4                                                 love it  \n",
       "...                                                   ...  \n",
       "672613  useless im in the uk and it tells me im over w...  \n",
       "672614  i cant get past the initial set up it wont set...  \n",
       "672615  this is incredible a quality dating app for an...  \n",
       "672616                    over water cant choose location  \n",
       "672617  my entire town counts as over water and i cann...  \n",
       "\n",
       "[667664 rows x 6 columns]"
      ]
     },
     "execution_count": 74,
     "metadata": {},
     "output_type": "execute_result"
    }
   ],
   "source": [
    "datingApp=datingApp[datingApp['cleaned_review']!='']\n",
    "datingApp"
   ]
  },
  {
   "cell_type": "code",
   "execution_count": 75,
   "id": "8967dbd4",
   "metadata": {},
   "outputs": [
    {
     "name": "stdout",
     "output_type": "stream",
     "text": [
      "Empty DataFrame\n",
      "Columns: [Name, Review, Rating, Year, App, cleaned_review]\n",
      "Index: []\n"
     ]
    }
   ],
   "source": [
    "print(datingApp[datingApp['cleaned_review']==''])"
   ]
  },
  {
   "cell_type": "code",
   "execution_count": 76,
   "id": "0096dac7",
   "metadata": {},
   "outputs": [],
   "source": [
    "datingApp.to_csv('datingAppCleaned.csv', index=False)"
   ]
  },
  {
   "cell_type": "code",
   "execution_count": 77,
   "id": "cb9f97e7",
   "metadata": {},
   "outputs": [
    {
     "name": "stdout",
     "output_type": "stream",
     "text": [
      "App\n",
      "Bumble    52632\n",
      "Hinge     52632\n",
      "Tinder    52632\n",
      "Name: count, dtype: int64\n",
      "App     Rating\n",
      "Bumble  1         15906\n",
      "        2          4507\n",
      "        3          5276\n",
      "        4          8584\n",
      "        5         18359\n",
      "Hinge   1         15906\n",
      "        2          4507\n",
      "        3          5276\n",
      "        4          8584\n",
      "        5         18359\n",
      "Tinder  1         15906\n",
      "        2          4507\n",
      "        3          5276\n",
      "        4          8584\n",
      "        5         18359\n",
      "dtype: int64\n"
     ]
    }
   ],
   "source": [
    "# Group by App and Rating to get counts\n",
    "app_rating_counts = datingApp.groupby(['App', 'Rating']).size().reset_index(name='Count')\n",
    "\n",
    "# Find the minimum count for each Rating group across all Apps\n",
    "min_count_per_rating = app_rating_counts.groupby('Rating')['Count'].min()\n",
    "\n",
    "# Perform stratified sampling\n",
    "def stratified_sample(group):\n",
    "    # Get the minimum sample size for the current rating\n",
    "    min_count = min_count_per_rating[group['Rating'].iloc[0]]\n",
    "    # Sample from the group, ensuring it doesn't exceed the minimum count\n",
    "    return group.sample(n=min_count, random_state=42)\n",
    "\n",
    "# Apply stratified sampling\n",
    "datingAppNor = datingApp.groupby(['App', 'Rating'], group_keys=False).apply(stratified_sample)\n",
    "\n",
    "# Check the normalized DataFrame\n",
    "print(datingAppNor['App'].value_counts())  # Ensure apps are balanced\n",
    "print(datingAppNor.groupby(['App', 'Rating']).size())  # Check group sizes"
   ]
  },
  {
   "cell_type": "code",
   "execution_count": 78,
   "id": "b4c7b824",
   "metadata": {
    "scrolled": false
   },
   "outputs": [
    {
     "data": {
      "text/html": [
       "<div>\n",
       "<style scoped>\n",
       "    .dataframe tbody tr th:only-of-type {\n",
       "        vertical-align: middle;\n",
       "    }\n",
       "\n",
       "    .dataframe tbody tr th {\n",
       "        vertical-align: top;\n",
       "    }\n",
       "\n",
       "    .dataframe thead th {\n",
       "        text-align: right;\n",
       "    }\n",
       "</style>\n",
       "<table border=\"1\" class=\"dataframe\">\n",
       "  <thead>\n",
       "    <tr style=\"text-align: right;\">\n",
       "      <th></th>\n",
       "      <th>Name</th>\n",
       "      <th>Review</th>\n",
       "      <th>Rating</th>\n",
       "      <th>Year</th>\n",
       "      <th>App</th>\n",
       "      <th>cleaned_review</th>\n",
       "    </tr>\n",
       "  </thead>\n",
       "  <tbody>\n",
       "    <tr>\n",
       "      <th>601814</th>\n",
       "      <td>Brett Wallace</td>\n",
       "      <td>SJW app that stole from tinder. Their way of f...</td>\n",
       "      <td>1</td>\n",
       "      <td>2018</td>\n",
       "      <td>Bumble</td>\n",
       "      <td>sjw app that stole from tinder their way of fi...</td>\n",
       "    </tr>\n",
       "    <tr>\n",
       "      <th>570562</th>\n",
       "      <td>binidh gupta</td>\n",
       "      <td>No match untill u buy premium ...</td>\n",
       "      <td>1</td>\n",
       "      <td>2019</td>\n",
       "      <td>Bumble</td>\n",
       "      <td>no match untill u buy premium</td>\n",
       "    </tr>\n",
       "    <tr>\n",
       "      <th>531976</th>\n",
       "      <td>Sealdory</td>\n",
       "      <td>It deleted my profile saying I am under 18 eve...</td>\n",
       "      <td>1</td>\n",
       "      <td>2021</td>\n",
       "      <td>Bumble</td>\n",
       "      <td>it deleted my profile saying i am under 18 eve...</td>\n",
       "    </tr>\n",
       "    <tr>\n",
       "      <th>614751</th>\n",
       "      <td>Yomi O</td>\n",
       "      <td>Bugs on bugs. I matched it a girl, we were cha...</td>\n",
       "      <td>1</td>\n",
       "      <td>2016</td>\n",
       "      <td>Bumble</td>\n",
       "      <td>bugs on bugs i matched it a girl we were chatt...</td>\n",
       "    </tr>\n",
       "    <tr>\n",
       "      <th>535957</th>\n",
       "      <td>Avik Pal</td>\n",
       "      <td>Even in premium very few mathches and people d...</td>\n",
       "      <td>1</td>\n",
       "      <td>2021</td>\n",
       "      <td>Bumble</td>\n",
       "      <td>even in premium very few mathches and people d...</td>\n",
       "    </tr>\n",
       "    <tr>\n",
       "      <th>...</th>\n",
       "      <td>...</td>\n",
       "      <td>...</td>\n",
       "      <td>...</td>\n",
       "      <td>...</td>\n",
       "      <td>...</td>\n",
       "      <td>...</td>\n",
       "    </tr>\n",
       "    <tr>\n",
       "      <th>407960</th>\n",
       "      <td>U-Seven Tovar</td>\n",
       "      <td>Easy to use!</td>\n",
       "      <td>5</td>\n",
       "      <td>2016</td>\n",
       "      <td>Tinder</td>\n",
       "      <td>easy to use</td>\n",
       "    </tr>\n",
       "    <tr>\n",
       "      <th>997</th>\n",
       "      <td>Naeem Sahil</td>\n",
       "      <td>Nice app</td>\n",
       "      <td>5</td>\n",
       "      <td>2022</td>\n",
       "      <td>Tinder</td>\n",
       "      <td>nice app</td>\n",
       "    </tr>\n",
       "    <tr>\n",
       "      <th>15454</th>\n",
       "      <td>Caroline Gitonga</td>\n",
       "      <td>Great,I love it</td>\n",
       "      <td>5</td>\n",
       "      <td>2021</td>\n",
       "      <td>Tinder</td>\n",
       "      <td>greati love it</td>\n",
       "    </tr>\n",
       "    <tr>\n",
       "      <th>179628</th>\n",
       "      <td>Jack dd</td>\n",
       "      <td>Great app for meeting people and so on..cheeky...</td>\n",
       "      <td>5</td>\n",
       "      <td>2019</td>\n",
       "      <td>Tinder</td>\n",
       "      <td>great app for meeting people and so oncheeky s...</td>\n",
       "    </tr>\n",
       "    <tr>\n",
       "      <th>63160</th>\n",
       "      <td>Sean F</td>\n",
       "      <td>Platinum version is where it's at. Take my mon...</td>\n",
       "      <td>5</td>\n",
       "      <td>2021</td>\n",
       "      <td>Tinder</td>\n",
       "      <td>platinum version is where its at take my money...</td>\n",
       "    </tr>\n",
       "  </tbody>\n",
       "</table>\n",
       "<p>157896 rows × 6 columns</p>\n",
       "</div>"
      ],
      "text/plain": [
       "                    Name                                             Review  \\\n",
       "601814     Brett Wallace  SJW app that stole from tinder. Their way of f...   \n",
       "570562      binidh gupta                  No match untill u buy premium ...   \n",
       "531976          Sealdory  It deleted my profile saying I am under 18 eve...   \n",
       "614751            Yomi O  Bugs on bugs. I matched it a girl, we were cha...   \n",
       "535957          Avik Pal  Even in premium very few mathches and people d...   \n",
       "...                  ...                                                ...   \n",
       "407960     U-Seven Tovar                                       Easy to use!   \n",
       "997          Naeem Sahil                                           Nice app   \n",
       "15454   Caroline Gitonga                                    Great,I love it   \n",
       "179628           Jack dd  Great app for meeting people and so on..cheeky...   \n",
       "63160             Sean F  Platinum version is where it's at. Take my mon...   \n",
       "\n",
       "        Rating  Year     App  \\\n",
       "601814       1  2018  Bumble   \n",
       "570562       1  2019  Bumble   \n",
       "531976       1  2021  Bumble   \n",
       "614751       1  2016  Bumble   \n",
       "535957       1  2021  Bumble   \n",
       "...        ...   ...     ...   \n",
       "407960       5  2016  Tinder   \n",
       "997          5  2022  Tinder   \n",
       "15454        5  2021  Tinder   \n",
       "179628       5  2019  Tinder   \n",
       "63160        5  2021  Tinder   \n",
       "\n",
       "                                           cleaned_review  \n",
       "601814  sjw app that stole from tinder their way of fi...  \n",
       "570562                      no match untill u buy premium  \n",
       "531976  it deleted my profile saying i am under 18 eve...  \n",
       "614751  bugs on bugs i matched it a girl we were chatt...  \n",
       "535957  even in premium very few mathches and people d...  \n",
       "...                                                   ...  \n",
       "407960                                        easy to use  \n",
       "997                                              nice app  \n",
       "15454                                      greati love it  \n",
       "179628  great app for meeting people and so oncheeky s...  \n",
       "63160   platinum version is where its at take my money...  \n",
       "\n",
       "[157896 rows x 6 columns]"
      ]
     },
     "execution_count": 78,
     "metadata": {},
     "output_type": "execute_result"
    }
   ],
   "source": [
    "datingAppNor"
   ]
  },
  {
   "cell_type": "code",
   "execution_count": 79,
   "id": "eadbe979",
   "metadata": {},
   "outputs": [
    {
     "name": "stdout",
     "output_type": "stream",
     "text": [
      "The DataFrame has been successfully saved as 'datingAppNor.csv'.\n"
     ]
    }
   ],
   "source": [
    "datingAppNor.to_csv('datingAppNor.csv', index=False)\n",
    "print(\"The DataFrame has been successfully saved as 'datingAppNor.csv'.\")"
   ]
  },
  {
   "cell_type": "code",
   "execution_count": 80,
   "id": "582f97f2",
   "metadata": {},
   "outputs": [
    {
     "name": "stdout",
     "output_type": "stream",
     "text": [
      "App\n",
      "Bumble    2.817400\n",
      "Hinge     3.170676\n",
      "Tinder    2.972847\n",
      "Name: Rating, dtype: float64\n"
     ]
    }
   ],
   "source": [
    "#Checking the average rating of the apps\n",
    "avg_rating = datingApp.groupby('App')['Rating'].mean()\n",
    "print(avg_rating)"
   ]
  },
  {
   "cell_type": "code",
   "execution_count": 81,
   "id": "8418590e",
   "metadata": {},
   "outputs": [
    {
     "data": {
      "image/png": "[encoded data removed]",
      "text/plain": [
       "<Figure size 1000x600 with 1 Axes>"
      ]
     },
     "metadata": {},
     "output_type": "display_data"
    }
   ],
   "source": [
    "reviews_per_year = datingApp.groupby(['Year', 'App']).size().reset_index(name='Review_Count')\n",
    "\n",
    "# Plotting the line graph\n",
    "plt.figure(figsize=(10, 6))\n",
    "sns.lineplot(data=reviews_per_year, x='Year', y='Review_Count', hue='App', marker='o', palette='flare')\n",
    "plt.title('Overall Reviews Over the Years by App')\n",
    "plt.xlabel('Year')\n",
    "plt.ylabel('Number of Reviews')\n",
    "plt.legend(title='App')\n",
    "plt.grid(True)\n",
    "plt.show()"
   ]
  },
  {
   "cell_type": "code",
   "execution_count": 82,
   "id": "4d5b6a5d",
   "metadata": {},
   "outputs": [
    {
     "data": {
      "image/png": "[encoded data removed]",
      "text/plain": [
       "<Figure size 800x600 with 1 Axes>"
      ]
     },
     "metadata": {},
     "output_type": "display_data"
    }
   ],
   "source": [
    "import seaborn as sns\n",
    "import matplotlib.pyplot as plt\n",
    "\n",
    "# Calculate average rating for each app\n",
    "avg_rating = datingApp.groupby('App')['Rating'].mean().reset_index()\n",
    "\n",
    "# Create a bar plot with a specific color scheme\n",
    "plt.figure(figsize=(8, 6))  # Set the figure size\n",
    "sns.barplot(data=avg_rating, x='App', y='Rating', palette='flare')  # Use 'coolwarm' palette\n",
    "\n",
    "# Add titles and labels\n",
    "plt.title('Average Rating per App', fontsize=14)\n",
    "plt.xlabel('App', fontsize=12)\n",
    "plt.ylabel('Average Rating', fontsize=12)\n",
    "plt.xticks(rotation=0)  # Keep x-axis labels horizontal\n",
    "\n",
    "# Show the plot\n",
    "plt.tight_layout()\n",
    "plt.show()"
   ]
  },
  {
   "cell_type": "code",
   "execution_count": 83,
   "id": "e7cc81c5",
   "metadata": {},
   "outputs": [
    {
     "name": "stdout",
     "output_type": "stream",
     "text": [
      "App\n",
      "Bumble    0.420310\n",
      "Hinge     0.511913\n",
      "Tinder    0.464399\n",
      "dtype: float64\n"
     ]
    }
   ],
   "source": [
    "positive_reviews = datingApp[datingApp['Rating'] >= 4].groupby('App').size() / datingApp.groupby('App').size()\n",
    "print(positive_reviews)"
   ]
  },
  {
   "cell_type": "code",
   "execution_count": 84,
   "id": "48fb5702",
   "metadata": {},
   "outputs": [
    {
     "data": {
      "image/png": "[encoded data removed]",
      "text/plain": [
       "<Figure size 800x500 with 1 Axes>"
      ]
     },
     "metadata": {},
     "output_type": "display_data"
    }
   ],
   "source": [
    "import seaborn as sns\n",
    "import matplotlib.pyplot as plt\n",
    "\n",
    "# Calculate the proportion of positive reviews per app\n",
    "positive_reviews = (\n",
    "    datingApp[datingApp['Rating'] >= 4].groupby('App').size() / datingApp.groupby('App').size()\n",
    ").reset_index(name='Positive Review Proportion')\n",
    "\n",
    "# Plot the bar chart using Seaborn\n",
    "plt.figure(figsize=(8, 5))\n",
    "sns.barplot(data=positive_reviews, x='App', y='Positive Review Proportion', palette='flare')\n",
    "\n",
    "# Add titles and labels\n",
    "plt.title(\"Proportion of Positive Reviews per App\", fontsize=14)\n",
    "plt.xlabel(\"App\", fontsize=12)\n",
    "plt.ylabel(\"Positive Review Proportion\", fontsize=12)\n",
    "plt.xticks(rotation=0)\n",
    "\n",
    "# Display the plot\n",
    "plt.tight_layout()\n",
    "plt.show()"
   ]
  },
  {
   "cell_type": "code",
   "execution_count": 85,
   "id": "da288c86",
   "metadata": {},
   "outputs": [
    {
     "data": {
      "image/png": "[encoded data removed]",
      "text/plain": [
       "<Figure size 800x500 with 1 Axes>"
      ]
     },
     "metadata": {},
     "output_type": "display_data"
    }
   ],
   "source": [
    "import seaborn as sns\n",
    "import matplotlib.pyplot as plt\n",
    "\n",
    "# Calculate the proportion of positive reviews per app\n",
    "negative_reviews = (\n",
    "    datingApp[datingApp['Rating'] <= 3].groupby('App').size() / datingApp.groupby('App').size()\n",
    ").reset_index(name='Negative Review Proportion')\n",
    "\n",
    "# Plot the bar chart using Seaborn\n",
    "plt.figure(figsize=(8, 5))\n",
    "sns.barplot(data=negative_reviews, x='App', y='Negative Review Proportion', palette='flare')\n",
    "\n",
    "# Add titles and labels\n",
    "plt.title(\"Proportion of Negative Reviews per App\", fontsize=14)\n",
    "plt.xlabel(\"App\", fontsize=12)\n",
    "plt.ylabel(\"Negative Review Proportion\", fontsize=12)\n",
    "plt.xticks(rotation=0)\n",
    "\n",
    "# Display the plot\n",
    "plt.tight_layout()\n",
    "plt.show()"
   ]
  },
  {
   "cell_type": "code",
   "execution_count": 86,
   "id": "1fd7d377",
   "metadata": {},
   "outputs": [
    {
     "name": "stdout",
     "output_type": "stream",
     "text": [
      "ANOVA F-Statistic: 736.3993931749322, P-Value: 3.4515e-320\n"
     ]
    }
   ],
   "source": [
    "from scipy.stats import f_oneway\n",
    "f_stat, p_val = f_oneway(\n",
    "    datingApp[datingApp['App'] == 'Tinder']['Rating'],\n",
    "    datingApp[datingApp['App'] == 'Bumble']['Rating'],\n",
    "    datingApp[datingApp['App'] == 'Hinge']['Rating']\n",
    ")\n",
    "print(f\"ANOVA F-Statistic: {f_stat}, P-Value: {p_val}\")"
   ]
  }
 ],
 "metadata": {
  "kernelspec": {
   "display_name": "Python 3 (ipykernel)",
   "language": "python",
   "name": "python3"
  },
  "language_info": {
   "codemirror_mode": {
    "name": "ipython",
    "version": 3
   },
   "file_extension": ".py",
   "mimetype": "text/x-python",
   "name": "python",
   "nbconvert_exporter": "python",
   "pygments_lexer": "ipython3",
   "version": "3.11.5"
  }
 },
 "nbformat": 4,
 "nbformat_minor": 5
}
