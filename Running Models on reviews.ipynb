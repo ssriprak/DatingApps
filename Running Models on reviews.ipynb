{
 "cells": [
  {
   "cell_type": "code",
   "execution_count": 75,
   "id": "447b6ba8",
   "metadata": {},
   "outputs": [],
   "source": [
    "import pandas as pd\n",
    "import numpy as np\n",
    "import warnings\n",
    "warnings.filterwarnings(\"ignore\")\n",
    "import matplotlib.pyplot as plt\n",
    "%matplotlib inline\n",
    "import seaborn as sns\n",
    "from scipy import stats\n",
    "from scipy.stats import norm"
   ]
  },
  {
   "cell_type": "code",
   "execution_count": 76,
   "id": "36e79cf9",
   "metadata": {},
   "outputs": [],
   "source": [
    "datingApp = pd.read_csv('datingAppNor.csv')"
   ]
  },
  {
   "cell_type": "code",
   "execution_count": 77,
   "id": "be8a86f8",
   "metadata": {},
   "outputs": [
    {
     "data": {
      "text/html": [
       "<div>\n",
       "<style scoped>\n",
       "    .dataframe tbody tr th:only-of-type {\n",
       "        vertical-align: middle;\n",
       "    }\n",
       "\n",
       "    .dataframe tbody tr th {\n",
       "        vertical-align: top;\n",
       "    }\n",
       "\n",
       "    .dataframe thead th {\n",
       "        text-align: right;\n",
       "    }\n",
       "</style>\n",
       "<table border=\"1\" class=\"dataframe\">\n",
       "  <thead>\n",
       "    <tr style=\"text-align: right;\">\n",
       "      <th></th>\n",
       "      <th>Name</th>\n",
       "      <th>Review</th>\n",
       "      <th>Rating</th>\n",
       "      <th>Year</th>\n",
       "      <th>App</th>\n",
       "      <th>cleaned_review</th>\n",
       "    </tr>\n",
       "  </thead>\n",
       "  <tbody>\n",
       "    <tr>\n",
       "      <th>0</th>\n",
       "      <td>Brett Wallace</td>\n",
       "      <td>SJW app that stole from tinder. Their way of f...</td>\n",
       "      <td>1</td>\n",
       "      <td>2018</td>\n",
       "      <td>Bumble</td>\n",
       "      <td>sjw app that stole from tinder their way of fi...</td>\n",
       "    </tr>\n",
       "    <tr>\n",
       "      <th>1</th>\n",
       "      <td>binidh gupta</td>\n",
       "      <td>No match untill u buy premium ...</td>\n",
       "      <td>1</td>\n",
       "      <td>2019</td>\n",
       "      <td>Bumble</td>\n",
       "      <td>no match untill u buy premium</td>\n",
       "    </tr>\n",
       "    <tr>\n",
       "      <th>2</th>\n",
       "      <td>Sealdory</td>\n",
       "      <td>It deleted my profile saying I am under 18 eve...</td>\n",
       "      <td>1</td>\n",
       "      <td>2021</td>\n",
       "      <td>Bumble</td>\n",
       "      <td>it deleted my profile saying i am under 18 eve...</td>\n",
       "    </tr>\n",
       "    <tr>\n",
       "      <th>3</th>\n",
       "      <td>Yomi O</td>\n",
       "      <td>Bugs on bugs. I matched it a girl, we were cha...</td>\n",
       "      <td>1</td>\n",
       "      <td>2016</td>\n",
       "      <td>Bumble</td>\n",
       "      <td>bugs on bugs i matched it a girl we were chatt...</td>\n",
       "    </tr>\n",
       "    <tr>\n",
       "      <th>4</th>\n",
       "      <td>Avik Pal</td>\n",
       "      <td>Even in premium very few mathches and people d...</td>\n",
       "      <td>1</td>\n",
       "      <td>2021</td>\n",
       "      <td>Bumble</td>\n",
       "      <td>even in premium very few mathches and people d...</td>\n",
       "    </tr>\n",
       "    <tr>\n",
       "      <th>...</th>\n",
       "      <td>...</td>\n",
       "      <td>...</td>\n",
       "      <td>...</td>\n",
       "      <td>...</td>\n",
       "      <td>...</td>\n",
       "      <td>...</td>\n",
       "    </tr>\n",
       "    <tr>\n",
       "      <th>157891</th>\n",
       "      <td>U-Seven Tovar</td>\n",
       "      <td>Easy to use!</td>\n",
       "      <td>5</td>\n",
       "      <td>2016</td>\n",
       "      <td>Tinder</td>\n",
       "      <td>easy to use</td>\n",
       "    </tr>\n",
       "    <tr>\n",
       "      <th>157892</th>\n",
       "      <td>Naeem Sahil</td>\n",
       "      <td>Nice app</td>\n",
       "      <td>5</td>\n",
       "      <td>2022</td>\n",
       "      <td>Tinder</td>\n",
       "      <td>nice app</td>\n",
       "    </tr>\n",
       "    <tr>\n",
       "      <th>157893</th>\n",
       "      <td>Caroline Gitonga</td>\n",
       "      <td>Great,I love it</td>\n",
       "      <td>5</td>\n",
       "      <td>2021</td>\n",
       "      <td>Tinder</td>\n",
       "      <td>greati love it</td>\n",
       "    </tr>\n",
       "    <tr>\n",
       "      <th>157894</th>\n",
       "      <td>Jack dd</td>\n",
       "      <td>Great app for meeting people and so on..cheeky...</td>\n",
       "      <td>5</td>\n",
       "      <td>2019</td>\n",
       "      <td>Tinder</td>\n",
       "      <td>great app for meeting people and so oncheeky s...</td>\n",
       "    </tr>\n",
       "    <tr>\n",
       "      <th>157895</th>\n",
       "      <td>Sean F</td>\n",
       "      <td>Platinum version is where it's at. Take my mon...</td>\n",
       "      <td>5</td>\n",
       "      <td>2021</td>\n",
       "      <td>Tinder</td>\n",
       "      <td>platinum version is where its at take my money...</td>\n",
       "    </tr>\n",
       "  </tbody>\n",
       "</table>\n",
       "<p>157896 rows × 6 columns</p>\n",
       "</div>"
      ],
      "text/plain": [
       "                    Name                                             Review  \\\n",
       "0          Brett Wallace  SJW app that stole from tinder. Their way of f...   \n",
       "1           binidh gupta                  No match untill u buy premium ...   \n",
       "2               Sealdory  It deleted my profile saying I am under 18 eve...   \n",
       "3                 Yomi O  Bugs on bugs. I matched it a girl, we were cha...   \n",
       "4               Avik Pal  Even in premium very few mathches and people d...   \n",
       "...                  ...                                                ...   \n",
       "157891     U-Seven Tovar                                       Easy to use!   \n",
       "157892       Naeem Sahil                                           Nice app   \n",
       "157893  Caroline Gitonga                                    Great,I love it   \n",
       "157894           Jack dd  Great app for meeting people and so on..cheeky...   \n",
       "157895            Sean F  Platinum version is where it's at. Take my mon...   \n",
       "\n",
       "        Rating  Year     App  \\\n",
       "0            1  2018  Bumble   \n",
       "1            1  2019  Bumble   \n",
       "2            1  2021  Bumble   \n",
       "3            1  2016  Bumble   \n",
       "4            1  2021  Bumble   \n",
       "...        ...   ...     ...   \n",
       "157891       5  2016  Tinder   \n",
       "157892       5  2022  Tinder   \n",
       "157893       5  2021  Tinder   \n",
       "157894       5  2019  Tinder   \n",
       "157895       5  2021  Tinder   \n",
       "\n",
       "                                           cleaned_review  \n",
       "0       sjw app that stole from tinder their way of fi...  \n",
       "1                           no match untill u buy premium  \n",
       "2       it deleted my profile saying i am under 18 eve...  \n",
       "3       bugs on bugs i matched it a girl we were chatt...  \n",
       "4       even in premium very few mathches and people d...  \n",
       "...                                                   ...  \n",
       "157891                                        easy to use  \n",
       "157892                                           nice app  \n",
       "157893                                     greati love it  \n",
       "157894  great app for meeting people and so oncheeky s...  \n",
       "157895  platinum version is where its at take my money...  \n",
       "\n",
       "[157896 rows x 6 columns]"
      ]
     },
     "execution_count": 77,
     "metadata": {},
     "output_type": "execute_result"
    }
   ],
   "source": [
    "datingApp"
   ]
  },
  {
   "cell_type": "code",
   "execution_count": 78,
   "id": "8a4b644c",
   "metadata": {},
   "outputs": [
    {
     "data": {
      "image/png": "[encoded data removed]",
      "text/plain": [
       "<Figure size 800x500 with 1 Axes>"
      ]
     },
     "metadata": {},
     "output_type": "display_data"
    }
   ],
   "source": [
    "user_counts = datingApp['App'].value_counts()\n",
    "\n",
    "# Plot the bar chart\n",
    "user_counts.plot(kind=\"bar\", figsize=(8, 5), color=\"skyblue\")\n",
    "\n",
    "# Add titles and labels\n",
    "plt.title(\"Number of Users per App\", fontsize=14)\n",
    "plt.xlabel(\"App\", fontsize=12)\n",
    "plt.ylabel(\"Number of Users\", fontsize=12)\n",
    "plt.xticks(rotation=0)\n",
    "\n",
    "# Display the plot\n",
    "plt.tight_layout()\n",
    "plt.show()"
   ]
  },
  {
   "cell_type": "code",
   "execution_count": 79,
   "id": "80b8691a",
   "metadata": {},
   "outputs": [
    {
     "name": "stdout",
     "output_type": "stream",
     "text": [
      "Rating      1     2     3     4      5\n",
      "App                                   \n",
      "Bumble  15906  4507  5276  8584  18359\n",
      "Hinge   15906  4507  5276  8584  18359\n",
      "Tinder  15906  4507  5276  8584  18359\n"
     ]
    },
    {
     "data": {
      "image/png": "[encoded data removed]",
      "text/plain": [
       "<Figure size 1000x600 with 1 Axes>"
      ]
     },
     "metadata": {},
     "output_type": "display_data"
    }
   ],
   "source": [
    "ratings_by_app = datingApp.groupby(['App', 'Rating']).size().unstack(fill_value=0)\n",
    "print(ratings_by_app)\n",
    "ratings_by_app.plot(kind=\"bar\", figsize=(10, 6), width=0.8)\n",
    "\n",
    "# Add titles and labels\n",
    "plt.title(\"Ratings Distribution by App\", fontsize=14)\n",
    "plt.xlabel(\"App\", fontsize=12)\n",
    "plt.ylabel(\"Number of Ratings\", fontsize=12)\n",
    "plt.xticks(rotation=0)\n",
    "plt.legend(title=\"Rating\", loc=\"upper right\")\n",
    "\n",
    "# Display the plot\n",
    "plt.tight_layout()\n",
    "plt.show()"
   ]
  },
  {
   "cell_type": "markdown",
   "id": "7e4d35aa",
   "metadata": {},
   "source": [
    "# Vader Model"
   ]
  },
  {
   "cell_type": "code",
   "execution_count": 80,
   "id": "9d9f00e1",
   "metadata": {},
   "outputs": [
    {
     "name": "stderr",
     "output_type": "stream",
     "text": [
      "[nltk_data] Downloading package vader_lexicon to\n",
      "[nltk_data]     /Users/saujanyasriprakash/nltk_data...\n",
      "[nltk_data]   Package vader_lexicon is already up-to-date!\n"
     ]
    }
   ],
   "source": [
    "import nltk\n",
    "nltk.download('vader_lexicon')\n",
    "from nltk.sentiment import SentimentIntensityAnalyzer\n",
    "from tqdm.notebook import tqdm"
   ]
  },
  {
   "cell_type": "code",
   "execution_count": 81,
   "id": "7bb1d149",
   "metadata": {},
   "outputs": [],
   "source": [
    "sia=SentimentIntensityAnalyzer()"
   ]
  },
  {
   "cell_type": "code",
   "execution_count": 82,
   "id": "553a42f1",
   "metadata": {},
   "outputs": [
    {
     "name": "stdout",
     "output_type": "stream",
     "text": [
      "{'neg': 0.614, 'neu': 0.386, 'pos': 0.0, 'compound': -0.4914}\n",
      "{'neg': 0.0, 'neu': 1.0, 'pos': 0.0, 'compound': 0.0}\n",
      "{'neg': 0.0, 'neu': 1.0, 'pos': 0.0, 'compound': 0.0}\n"
     ]
    }
   ],
   "source": [
    "print(sia.polarity_scores('I am so dissatisfied!'))\n",
    "print(sia.polarity_scores('I am here!'))\n",
    "print(sia.polarity_scores('this is incredible'))"
   ]
  },
  {
   "cell_type": "code",
   "execution_count": 83,
   "id": "c52e1638",
   "metadata": {},
   "outputs": [
    {
     "data": {
      "text/plain": [
       "{'neg': 0.0, 'neu': 0.263, 'pos': 0.737, 'compound': 0.4215}"
      ]
     },
     "execution_count": 83,
     "metadata": {},
     "output_type": "execute_result"
    }
   ],
   "source": [
    "#Run the polarity score on the reviews and see if the review matches the rating\n",
    "sia.polarity_scores(datingApp['cleaned_review'][157808])"
   ]
  },
  {
   "cell_type": "code",
   "execution_count": 84,
   "id": "284c9126",
   "metadata": {},
   "outputs": [
    {
     "name": "stdout",
     "output_type": "stream",
     "text": [
      "nice app 5\n"
     ]
    }
   ],
   "source": [
    "print(datingApp['cleaned_review'][157808], datingApp['Rating'][157808])"
   ]
  },
  {
   "cell_type": "code",
   "execution_count": 85,
   "id": "cce91902",
   "metadata": {},
   "outputs": [
    {
     "data": {
      "text/plain": [
       "Name              object\n",
       "Review            object\n",
       "Rating             int64\n",
       "Year               int64\n",
       "App               object\n",
       "cleaned_review    object\n",
       "dtype: object"
      ]
     },
     "execution_count": 85,
     "metadata": {},
     "output_type": "execute_result"
    }
   ],
   "source": [
    "datingApp.dtypes"
   ]
  },
  {
   "cell_type": "code",
   "execution_count": 86,
   "id": "2b1dda93",
   "metadata": {},
   "outputs": [
    {
     "data": {
      "text/plain": [
       "(157896, 6)"
      ]
     },
     "execution_count": 86,
     "metadata": {},
     "output_type": "execute_result"
    }
   ],
   "source": [
    "datingApp.shape"
   ]
  },
  {
   "cell_type": "code",
   "execution_count": 87,
   "id": "12db93cf",
   "metadata": {},
   "outputs": [
    {
     "data": {
      "text/plain": [
       "Name              0\n",
       "Review            0\n",
       "Rating            0\n",
       "Year              0\n",
       "App               0\n",
       "cleaned_review    0\n",
       "dtype: int64"
      ]
     },
     "execution_count": 87,
     "metadata": {},
     "output_type": "execute_result"
    }
   ],
   "source": [
    "datingApp.isna().sum()"
   ]
  },
  {
   "cell_type": "code",
   "execution_count": 88,
   "id": "09181f5e",
   "metadata": {},
   "outputs": [
    {
     "name": "stdout",
     "output_type": "stream",
     "text": [
      "                                      cleaned_review  sentiment_score\n",
      "0  sjw app that stole from tinder their way of fi...          -0.2229\n",
      "1                      no match untill u buy premium          -0.2960\n",
      "2  it deleted my profile saying i am under 18 eve...           0.0000\n",
      "3  bugs on bugs i matched it a girl we were chatt...          -0.5574\n",
      "4  even in premium very few mathches and people d...          -0.7184\n"
     ]
    }
   ],
   "source": [
    "# Ensure text is a string and handle missing/invalid values\n",
    "def get_compound_score(text): \n",
    "    return sia.polarity_scores(text)['compound']\n",
    "datingApp['sentiment_score'] = datingApp['cleaned_review'].apply(get_compound_score)\n",
    "print(datingApp[['cleaned_review', 'sentiment_score']].head())"
   ]
  },
  {
   "cell_type": "code",
   "execution_count": 89,
   "id": "901ca274",
   "metadata": {},
   "outputs": [
    {
     "data": {
      "text/html": [
       "<div>\n",
       "<style scoped>\n",
       "    .dataframe tbody tr th:only-of-type {\n",
       "        vertical-align: middle;\n",
       "    }\n",
       "\n",
       "    .dataframe tbody tr th {\n",
       "        vertical-align: top;\n",
       "    }\n",
       "\n",
       "    .dataframe thead th {\n",
       "        text-align: right;\n",
       "    }\n",
       "</style>\n",
       "<table border=\"1\" class=\"dataframe\">\n",
       "  <thead>\n",
       "    <tr style=\"text-align: right;\">\n",
       "      <th></th>\n",
       "      <th>Name</th>\n",
       "      <th>Review</th>\n",
       "      <th>Rating</th>\n",
       "      <th>Year</th>\n",
       "      <th>App</th>\n",
       "      <th>cleaned_review</th>\n",
       "      <th>sentiment_score</th>\n",
       "    </tr>\n",
       "  </thead>\n",
       "  <tbody>\n",
       "    <tr>\n",
       "      <th>0</th>\n",
       "      <td>Brett Wallace</td>\n",
       "      <td>SJW app that stole from tinder. Their way of f...</td>\n",
       "      <td>1</td>\n",
       "      <td>2018</td>\n",
       "      <td>Bumble</td>\n",
       "      <td>sjw app that stole from tinder their way of fi...</td>\n",
       "      <td>-0.2229</td>\n",
       "    </tr>\n",
       "    <tr>\n",
       "      <th>1</th>\n",
       "      <td>binidh gupta</td>\n",
       "      <td>No match untill u buy premium ...</td>\n",
       "      <td>1</td>\n",
       "      <td>2019</td>\n",
       "      <td>Bumble</td>\n",
       "      <td>no match untill u buy premium</td>\n",
       "      <td>-0.2960</td>\n",
       "    </tr>\n",
       "    <tr>\n",
       "      <th>2</th>\n",
       "      <td>Sealdory</td>\n",
       "      <td>It deleted my profile saying I am under 18 eve...</td>\n",
       "      <td>1</td>\n",
       "      <td>2021</td>\n",
       "      <td>Bumble</td>\n",
       "      <td>it deleted my profile saying i am under 18 eve...</td>\n",
       "      <td>0.0000</td>\n",
       "    </tr>\n",
       "    <tr>\n",
       "      <th>3</th>\n",
       "      <td>Yomi O</td>\n",
       "      <td>Bugs on bugs. I matched it a girl, we were cha...</td>\n",
       "      <td>1</td>\n",
       "      <td>2016</td>\n",
       "      <td>Bumble</td>\n",
       "      <td>bugs on bugs i matched it a girl we were chatt...</td>\n",
       "      <td>-0.5574</td>\n",
       "    </tr>\n",
       "    <tr>\n",
       "      <th>4</th>\n",
       "      <td>Avik Pal</td>\n",
       "      <td>Even in premium very few mathches and people d...</td>\n",
       "      <td>1</td>\n",
       "      <td>2021</td>\n",
       "      <td>Bumble</td>\n",
       "      <td>even in premium very few mathches and people d...</td>\n",
       "      <td>-0.7184</td>\n",
       "    </tr>\n",
       "  </tbody>\n",
       "</table>\n",
       "</div>"
      ],
      "text/plain": [
       "            Name                                             Review  Rating  \\\n",
       "0  Brett Wallace  SJW app that stole from tinder. Their way of f...       1   \n",
       "1   binidh gupta                  No match untill u buy premium ...       1   \n",
       "2       Sealdory  It deleted my profile saying I am under 18 eve...       1   \n",
       "3         Yomi O  Bugs on bugs. I matched it a girl, we were cha...       1   \n",
       "4       Avik Pal  Even in premium very few mathches and people d...       1   \n",
       "\n",
       "   Year     App                                     cleaned_review  \\\n",
       "0  2018  Bumble  sjw app that stole from tinder their way of fi...   \n",
       "1  2019  Bumble                      no match untill u buy premium   \n",
       "2  2021  Bumble  it deleted my profile saying i am under 18 eve...   \n",
       "3  2016  Bumble  bugs on bugs i matched it a girl we were chatt...   \n",
       "4  2021  Bumble  even in premium very few mathches and people d...   \n",
       "\n",
       "   sentiment_score  \n",
       "0          -0.2229  \n",
       "1          -0.2960  \n",
       "2           0.0000  \n",
       "3          -0.5574  \n",
       "4          -0.7184  "
      ]
     },
     "execution_count": 89,
     "metadata": {},
     "output_type": "execute_result"
    }
   ],
   "source": [
    "datingApp.head()"
   ]
  },
  {
   "cell_type": "code",
   "execution_count": 90,
   "id": "3253db54",
   "metadata": {},
   "outputs": [
    {
     "name": "stdout",
     "output_type": "stream",
     "text": [
      "where are the people of color every guy looks exactly the same every account looks fake wheres the variety 1 -0.4767\n"
     ]
    }
   ],
   "source": [
    "print(datingApp['cleaned_review'][15], datingApp['Rating'][15], datingApp['sentiment_score'][15])"
   ]
  },
  {
   "cell_type": "code",
   "execution_count": 91,
   "id": "ca21d4ae",
   "metadata": {},
   "outputs": [
    {
     "data": {
      "image/png": "[encoded data removed]",
      "text/plain": [
       "<Figure size 640x480 with 1 Axes>"
      ]
     },
     "metadata": {},
     "output_type": "display_data"
    }
   ],
   "source": [
    "ax=sns.barplot(data=datingApp, x='Rating', y='sentiment_score', palette='flare')\n",
    "ax.set_title('Sentiment score and Rating comparison to check if the rating correlates with what the user says in their review')\n",
    "plt.show()"
   ]
  },
  {
   "cell_type": "code",
   "execution_count": 92,
   "id": "8c9f4b54",
   "metadata": {},
   "outputs": [
    {
     "data": {
      "image/png": "[encoded data removed]",
      "text/plain": [
       "<Figure size 900x600 with 3 Axes>"
      ]
     },
     "metadata": {},
     "output_type": "display_data"
    }
   ],
   "source": [
    "# Create a figure with 3 subplots, one for each app\n",
    "fig, axes = plt.subplots(1, 3, figsize=(9, 6))\n",
    "fig.suptitle('Sentiment Score vs Rating Comparison by Dating App', fontsize=14)\n",
    "\n",
    "# Get unique apps\n",
    "apps = datingApp['App'].unique()\n",
    "\n",
    "# Create a plot for each app\n",
    "for i, app in enumerate(apps):\n",
    "    app_data = datingApp[datingApp['App'] == app]\n",
    "    \n",
    "    sns.barplot(data=app_data, x='Rating', y='sentiment_score', ax=axes[i], palette='flare')\n",
    "    axes[i].set_title(f'{app}')\n",
    "    axes[i].set_xlabel('Rating')\n",
    "    axes[i].set_ylabel('Sentiment Score' if i == 0 else '')  # Only show y-label for first plot\n",
    "\n",
    "plt.tight_layout()\n",
    "plt.show()"
   ]
  },
  {
   "cell_type": "markdown",
   "id": "671ba092",
   "metadata": {},
   "source": [
    "# RoBERTa Pretrained Model"
   ]
  },
  {
   "cell_type": "markdown",
   "id": "37cfa61c",
   "metadata": {},
   "source": [
    "Vader model does not pickup on relationship b/w words (eg: sarcasm etc). The Roberta Model helps in correlation that"
   ]
  },
  {
   "cell_type": "code",
   "execution_count": 93,
   "id": "a3e65726",
   "metadata": {},
   "outputs": [],
   "source": [
    "from transformers import AutoTokenizer\n",
    "from transformers import AutoModelForSequenceClassification\n",
    "from scipy.special import softmax"
   ]
  },
  {
   "cell_type": "code",
   "execution_count": 94,
   "id": "61d0b1b0",
   "metadata": {},
   "outputs": [],
   "source": [
    "MODEL = \"cardiffnlp/twitter-roberta-base-sentiment\"\n",
    "tokenizer = AutoTokenizer.from_pretrained(MODEL)\n",
    "model = AutoModelForSequenceClassification.from_pretrained(MODEL)"
   ]
  },
  {
   "cell_type": "code",
   "execution_count": 95,
   "id": "801678fe",
   "metadata": {},
   "outputs": [
    {
     "name": "stdout",
     "output_type": "stream",
     "text": [
      "Name                                               Chowdary Chowdary\n",
      "Review             Once selection of to show only women after tha...\n",
      "Rating                                                             1\n",
      "Year                                                            2021\n",
      "App                                                           Bumble\n",
      "cleaned_review     once selection of to show only women after tha...\n",
      "sentiment_score                                               0.4939\n",
      "Name: 4456, dtype: object \n",
      " Name                chitty bang bang\n",
      "Review             Ehhh kinda sexist\n",
      "Rating                             1\n",
      "Year                            2020\n",
      "App                           Bumble\n",
      "cleaned_review     ehhh kinda sexist\n",
      "sentiment_score                  0.0\n",
      "Name: 5377, dtype: object \n",
      " Name                                                        Avik Pal\n",
      "Review             Even in premium very few mathches and people d...\n",
      "Rating                                                             1\n",
      "Year                                                            2021\n",
      "App                                                           Bumble\n",
      "cleaned_review     even in premium very few mathches and people d...\n",
      "sentiment_score                                              -0.7184\n",
      "Name: 4, dtype: object\n"
     ]
    }
   ],
   "source": [
    "print(datingApp.iloc[4456], '\\n', datingApp.iloc[5377], '\\n', datingApp.iloc[4])"
   ]
  },
  {
   "cell_type": "code",
   "execution_count": 96,
   "id": "e205da47",
   "metadata": {},
   "outputs": [],
   "source": [
    "def roberta_scores(example):\n",
    "    texts=tokenizer(example, return_tensors='pt')\n",
    "    op=model(**texts)\n",
    "    scores=op[0][0].detach().numpy()\n",
    "    scores=softmax(scores)\n",
    "    scores\n",
    "    scores_dict={\n",
    "        'neg':scores[0],\n",
    "        'neutral':scores[1],\n",
    "        'pos':scores[2]\n",
    "    }\n",
    "\n",
    "    return(scores_dict)"
   ]
  },
  {
   "cell_type": "code",
   "execution_count": 97,
   "id": "018b7ad6",
   "metadata": {},
   "outputs": [
    {
     "data": {
      "text/plain": [
       "{'neg': 0.015640927, 'neutral': 0.13030013, 'pos': 0.8540589}"
      ]
     },
     "execution_count": 97,
     "metadata": {},
     "output_type": "execute_result"
    }
   ],
   "source": [
    "roberta_scores('It is not a bad app')"
   ]
  },
  {
   "cell_type": "code",
   "execution_count": 98,
   "id": "ddd1c468",
   "metadata": {},
   "outputs": [
    {
     "data": {
      "text/html": [
       "<div>\n",
       "<style scoped>\n",
       "    .dataframe tbody tr th:only-of-type {\n",
       "        vertical-align: middle;\n",
       "    }\n",
       "\n",
       "    .dataframe tbody tr th {\n",
       "        vertical-align: top;\n",
       "    }\n",
       "\n",
       "    .dataframe thead th {\n",
       "        text-align: right;\n",
       "    }\n",
       "</style>\n",
       "<table border=\"1\" class=\"dataframe\">\n",
       "  <thead>\n",
       "    <tr style=\"text-align: right;\">\n",
       "      <th></th>\n",
       "      <th>Name</th>\n",
       "      <th>Review</th>\n",
       "      <th>Rating</th>\n",
       "      <th>Year</th>\n",
       "      <th>App</th>\n",
       "      <th>cleaned_review</th>\n",
       "      <th>sentiment_score</th>\n",
       "      <th>R_neg</th>\n",
       "      <th>R_neu</th>\n",
       "      <th>R_pos</th>\n",
       "    </tr>\n",
       "  </thead>\n",
       "  <tbody>\n",
       "    <tr>\n",
       "      <th>0</th>\n",
       "      <td>Brett Wallace</td>\n",
       "      <td>SJW app that stole from tinder. Their way of f...</td>\n",
       "      <td>1</td>\n",
       "      <td>2018</td>\n",
       "      <td>Bumble</td>\n",
       "      <td>sjw app that stole from tinder their way of fi...</td>\n",
       "      <td>-0.2229</td>\n",
       "      <td>0.923939</td>\n",
       "      <td>0.071833</td>\n",
       "      <td>0.004228</td>\n",
       "    </tr>\n",
       "    <tr>\n",
       "      <th>1</th>\n",
       "      <td>binidh gupta</td>\n",
       "      <td>No match untill u buy premium ...</td>\n",
       "      <td>1</td>\n",
       "      <td>2019</td>\n",
       "      <td>Bumble</td>\n",
       "      <td>no match untill u buy premium</td>\n",
       "      <td>-0.2960</td>\n",
       "      <td>0.243902</td>\n",
       "      <td>0.693450</td>\n",
       "      <td>0.062648</td>\n",
       "    </tr>\n",
       "    <tr>\n",
       "      <th>2</th>\n",
       "      <td>Sealdory</td>\n",
       "      <td>It deleted my profile saying I am under 18 eve...</td>\n",
       "      <td>1</td>\n",
       "      <td>2021</td>\n",
       "      <td>Bumble</td>\n",
       "      <td>it deleted my profile saying i am under 18 eve...</td>\n",
       "      <td>0.0000</td>\n",
       "      <td>0.439008</td>\n",
       "      <td>0.532371</td>\n",
       "      <td>0.028621</td>\n",
       "    </tr>\n",
       "    <tr>\n",
       "      <th>3</th>\n",
       "      <td>Yomi O</td>\n",
       "      <td>Bugs on bugs. I matched it a girl, we were cha...</td>\n",
       "      <td>1</td>\n",
       "      <td>2016</td>\n",
       "      <td>Bumble</td>\n",
       "      <td>bugs on bugs i matched it a girl we were chatt...</td>\n",
       "      <td>-0.5574</td>\n",
       "      <td>0.797363</td>\n",
       "      <td>0.188475</td>\n",
       "      <td>0.014162</td>\n",
       "    </tr>\n",
       "    <tr>\n",
       "      <th>4</th>\n",
       "      <td>Avik Pal</td>\n",
       "      <td>Even in premium very few mathches and people d...</td>\n",
       "      <td>1</td>\n",
       "      <td>2021</td>\n",
       "      <td>Bumble</td>\n",
       "      <td>even in premium very few mathches and people d...</td>\n",
       "      <td>-0.7184</td>\n",
       "      <td>0.916284</td>\n",
       "      <td>0.078000</td>\n",
       "      <td>0.005717</td>\n",
       "    </tr>\n",
       "    <tr>\n",
       "      <th>...</th>\n",
       "      <td>...</td>\n",
       "      <td>...</td>\n",
       "      <td>...</td>\n",
       "      <td>...</td>\n",
       "      <td>...</td>\n",
       "      <td>...</td>\n",
       "      <td>...</td>\n",
       "      <td>...</td>\n",
       "      <td>...</td>\n",
       "      <td>...</td>\n",
       "    </tr>\n",
       "    <tr>\n",
       "      <th>157891</th>\n",
       "      <td>U-Seven Tovar</td>\n",
       "      <td>Easy to use!</td>\n",
       "      <td>5</td>\n",
       "      <td>2016</td>\n",
       "      <td>Tinder</td>\n",
       "      <td>easy to use</td>\n",
       "      <td>0.4404</td>\n",
       "      <td>0.022150</td>\n",
       "      <td>0.258366</td>\n",
       "      <td>0.719483</td>\n",
       "    </tr>\n",
       "    <tr>\n",
       "      <th>157892</th>\n",
       "      <td>Naeem Sahil</td>\n",
       "      <td>Nice app</td>\n",
       "      <td>5</td>\n",
       "      <td>2022</td>\n",
       "      <td>Tinder</td>\n",
       "      <td>nice app</td>\n",
       "      <td>0.4215</td>\n",
       "      <td>0.010883</td>\n",
       "      <td>0.083239</td>\n",
       "      <td>0.905878</td>\n",
       "    </tr>\n",
       "    <tr>\n",
       "      <th>157893</th>\n",
       "      <td>Caroline Gitonga</td>\n",
       "      <td>Great,I love it</td>\n",
       "      <td>5</td>\n",
       "      <td>2021</td>\n",
       "      <td>Tinder</td>\n",
       "      <td>greati love it</td>\n",
       "      <td>0.6369</td>\n",
       "      <td>0.007187</td>\n",
       "      <td>0.023771</td>\n",
       "      <td>0.969041</td>\n",
       "    </tr>\n",
       "    <tr>\n",
       "      <th>157894</th>\n",
       "      <td>Jack dd</td>\n",
       "      <td>Great app for meeting people and so on..cheeky...</td>\n",
       "      <td>5</td>\n",
       "      <td>2019</td>\n",
       "      <td>Tinder</td>\n",
       "      <td>great app for meeting people and so oncheeky s...</td>\n",
       "      <td>0.7832</td>\n",
       "      <td>0.001981</td>\n",
       "      <td>0.014040</td>\n",
       "      <td>0.983979</td>\n",
       "    </tr>\n",
       "    <tr>\n",
       "      <th>157895</th>\n",
       "      <td>Sean F</td>\n",
       "      <td>Platinum version is where it's at. Take my mon...</td>\n",
       "      <td>5</td>\n",
       "      <td>2021</td>\n",
       "      <td>Tinder</td>\n",
       "      <td>platinum version is where its at take my money...</td>\n",
       "      <td>0.5938</td>\n",
       "      <td>0.036776</td>\n",
       "      <td>0.237115</td>\n",
       "      <td>0.726109</td>\n",
       "    </tr>\n",
       "  </tbody>\n",
       "</table>\n",
       "<p>157896 rows × 10 columns</p>\n",
       "</div>"
      ],
      "text/plain": [
       "                    Name                                             Review  \\\n",
       "0          Brett Wallace  SJW app that stole from tinder. Their way of f...   \n",
       "1           binidh gupta                  No match untill u buy premium ...   \n",
       "2               Sealdory  It deleted my profile saying I am under 18 eve...   \n",
       "3                 Yomi O  Bugs on bugs. I matched it a girl, we were cha...   \n",
       "4               Avik Pal  Even in premium very few mathches and people d...   \n",
       "...                  ...                                                ...   \n",
       "157891     U-Seven Tovar                                       Easy to use!   \n",
       "157892       Naeem Sahil                                           Nice app   \n",
       "157893  Caroline Gitonga                                    Great,I love it   \n",
       "157894           Jack dd  Great app for meeting people and so on..cheeky...   \n",
       "157895            Sean F  Platinum version is where it's at. Take my mon...   \n",
       "\n",
       "        Rating  Year     App  \\\n",
       "0            1  2018  Bumble   \n",
       "1            1  2019  Bumble   \n",
       "2            1  2021  Bumble   \n",
       "3            1  2016  Bumble   \n",
       "4            1  2021  Bumble   \n",
       "...        ...   ...     ...   \n",
       "157891       5  2016  Tinder   \n",
       "157892       5  2022  Tinder   \n",
       "157893       5  2021  Tinder   \n",
       "157894       5  2019  Tinder   \n",
       "157895       5  2021  Tinder   \n",
       "\n",
       "                                           cleaned_review  sentiment_score  \\\n",
       "0       sjw app that stole from tinder their way of fi...          -0.2229   \n",
       "1                           no match untill u buy premium          -0.2960   \n",
       "2       it deleted my profile saying i am under 18 eve...           0.0000   \n",
       "3       bugs on bugs i matched it a girl we were chatt...          -0.5574   \n",
       "4       even in premium very few mathches and people d...          -0.7184   \n",
       "...                                                   ...              ...   \n",
       "157891                                        easy to use           0.4404   \n",
       "157892                                           nice app           0.4215   \n",
       "157893                                     greati love it           0.6369   \n",
       "157894  great app for meeting people and so oncheeky s...           0.7832   \n",
       "157895  platinum version is where its at take my money...           0.5938   \n",
       "\n",
       "           R_neg     R_neu     R_pos  \n",
       "0       0.923939  0.071833  0.004228  \n",
       "1       0.243902  0.693450  0.062648  \n",
       "2       0.439008  0.532371  0.028621  \n",
       "3       0.797363  0.188475  0.014162  \n",
       "4       0.916284  0.078000  0.005717  \n",
       "...          ...       ...       ...  \n",
       "157891  0.022150  0.258366  0.719483  \n",
       "157892  0.010883  0.083239  0.905878  \n",
       "157893  0.007187  0.023771  0.969041  \n",
       "157894  0.001981  0.014040  0.983979  \n",
       "157895  0.036776  0.237115  0.726109  \n",
       "\n",
       "[157896 rows x 10 columns]"
      ]
     },
     "execution_count": 98,
     "metadata": {},
     "output_type": "execute_result"
    }
   ],
   "source": [
    "# Define the function to calculate RoBERTa scores for a single text input\n",
    "def roberta_scores(example):\n",
    "    # Tokenize the input text with truncation and padding\n",
    "    texts = tokenizer(example, return_tensors='pt', truncation=True, padding=True, max_length=512)\n",
    "    op = model(**texts)\n",
    "    scores = op[0][0].detach().numpy()\n",
    "    scores = softmax(scores)\n",
    "    scores_dict = {\n",
    "        'R_neg': scores[0],\n",
    "        'R_neu': scores[1],\n",
    "        'R_pos': scores[2]\n",
    "    }\n",
    "    return scores_dict\n",
    "\n",
    "# Apply the function to the 'cleaned_review' column\n",
    "datingApp['Scores'] = datingApp['cleaned_review'].apply(roberta_scores)\n",
    "\n",
    "# Expand the dictionary columns into separate columns\n",
    "datingApp[['R_neg', 'R_neu', 'R_pos']] = datingApp['Scores'].apply(pd.Series)\n",
    "\n",
    "# Drop the intermediate 'Scores' column if not needed\n",
    "datingApp.drop(columns=['Scores'], inplace=True)\n",
    "\n",
    "# View the updated DataFrame\n",
    "datingApp"
   ]
  },
  {
   "cell_type": "code",
   "execution_count": 99,
   "id": "186b8f79",
   "metadata": {},
   "outputs": [
    {
     "data": {
      "text/html": [
       "<div>\n",
       "<style scoped>\n",
       "    .dataframe tbody tr th:only-of-type {\n",
       "        vertical-align: middle;\n",
       "    }\n",
       "\n",
       "    .dataframe tbody tr th {\n",
       "        vertical-align: top;\n",
       "    }\n",
       "\n",
       "    .dataframe thead th {\n",
       "        text-align: right;\n",
       "    }\n",
       "</style>\n",
       "<table border=\"1\" class=\"dataframe\">\n",
       "  <thead>\n",
       "    <tr style=\"text-align: right;\">\n",
       "      <th></th>\n",
       "      <th>Name</th>\n",
       "      <th>Review</th>\n",
       "      <th>Rating</th>\n",
       "      <th>Year</th>\n",
       "      <th>App</th>\n",
       "      <th>cleaned_review</th>\n",
       "      <th>sentiment_score</th>\n",
       "      <th>R_neg</th>\n",
       "      <th>R_neu</th>\n",
       "      <th>R_pos</th>\n",
       "    </tr>\n",
       "  </thead>\n",
       "  <tbody>\n",
       "    <tr>\n",
       "      <th>0</th>\n",
       "      <td>Brett Wallace</td>\n",
       "      <td>SJW app that stole from tinder. Their way of f...</td>\n",
       "      <td>1</td>\n",
       "      <td>2018</td>\n",
       "      <td>Bumble</td>\n",
       "      <td>sjw app that stole from tinder their way of fi...</td>\n",
       "      <td>-0.2229</td>\n",
       "      <td>0.923939</td>\n",
       "      <td>0.071833</td>\n",
       "      <td>0.004228</td>\n",
       "    </tr>\n",
       "    <tr>\n",
       "      <th>1</th>\n",
       "      <td>binidh gupta</td>\n",
       "      <td>No match untill u buy premium ...</td>\n",
       "      <td>1</td>\n",
       "      <td>2019</td>\n",
       "      <td>Bumble</td>\n",
       "      <td>no match untill u buy premium</td>\n",
       "      <td>-0.2960</td>\n",
       "      <td>0.243902</td>\n",
       "      <td>0.693450</td>\n",
       "      <td>0.062648</td>\n",
       "    </tr>\n",
       "    <tr>\n",
       "      <th>2</th>\n",
       "      <td>Sealdory</td>\n",
       "      <td>It deleted my profile saying I am under 18 eve...</td>\n",
       "      <td>1</td>\n",
       "      <td>2021</td>\n",
       "      <td>Bumble</td>\n",
       "      <td>it deleted my profile saying i am under 18 eve...</td>\n",
       "      <td>0.0000</td>\n",
       "      <td>0.439008</td>\n",
       "      <td>0.532371</td>\n",
       "      <td>0.028621</td>\n",
       "    </tr>\n",
       "    <tr>\n",
       "      <th>3</th>\n",
       "      <td>Yomi O</td>\n",
       "      <td>Bugs on bugs. I matched it a girl, we were cha...</td>\n",
       "      <td>1</td>\n",
       "      <td>2016</td>\n",
       "      <td>Bumble</td>\n",
       "      <td>bugs on bugs i matched it a girl we were chatt...</td>\n",
       "      <td>-0.5574</td>\n",
       "      <td>0.797363</td>\n",
       "      <td>0.188475</td>\n",
       "      <td>0.014162</td>\n",
       "    </tr>\n",
       "    <tr>\n",
       "      <th>4</th>\n",
       "      <td>Avik Pal</td>\n",
       "      <td>Even in premium very few mathches and people d...</td>\n",
       "      <td>1</td>\n",
       "      <td>2021</td>\n",
       "      <td>Bumble</td>\n",
       "      <td>even in premium very few mathches and people d...</td>\n",
       "      <td>-0.7184</td>\n",
       "      <td>0.916284</td>\n",
       "      <td>0.078000</td>\n",
       "      <td>0.005717</td>\n",
       "    </tr>\n",
       "    <tr>\n",
       "      <th>...</th>\n",
       "      <td>...</td>\n",
       "      <td>...</td>\n",
       "      <td>...</td>\n",
       "      <td>...</td>\n",
       "      <td>...</td>\n",
       "      <td>...</td>\n",
       "      <td>...</td>\n",
       "      <td>...</td>\n",
       "      <td>...</td>\n",
       "      <td>...</td>\n",
       "    </tr>\n",
       "    <tr>\n",
       "      <th>157891</th>\n",
       "      <td>U-Seven Tovar</td>\n",
       "      <td>Easy to use!</td>\n",
       "      <td>5</td>\n",
       "      <td>2016</td>\n",
       "      <td>Tinder</td>\n",
       "      <td>easy to use</td>\n",
       "      <td>0.4404</td>\n",
       "      <td>0.022150</td>\n",
       "      <td>0.258366</td>\n",
       "      <td>0.719483</td>\n",
       "    </tr>\n",
       "    <tr>\n",
       "      <th>157892</th>\n",
       "      <td>Naeem Sahil</td>\n",
       "      <td>Nice app</td>\n",
       "      <td>5</td>\n",
       "      <td>2022</td>\n",
       "      <td>Tinder</td>\n",
       "      <td>nice app</td>\n",
       "      <td>0.4215</td>\n",
       "      <td>0.010883</td>\n",
       "      <td>0.083239</td>\n",
       "      <td>0.905878</td>\n",
       "    </tr>\n",
       "    <tr>\n",
       "      <th>157893</th>\n",
       "      <td>Caroline Gitonga</td>\n",
       "      <td>Great,I love it</td>\n",
       "      <td>5</td>\n",
       "      <td>2021</td>\n",
       "      <td>Tinder</td>\n",
       "      <td>greati love it</td>\n",
       "      <td>0.6369</td>\n",
       "      <td>0.007187</td>\n",
       "      <td>0.023771</td>\n",
       "      <td>0.969041</td>\n",
       "    </tr>\n",
       "    <tr>\n",
       "      <th>157894</th>\n",
       "      <td>Jack dd</td>\n",
       "      <td>Great app for meeting people and so on..cheeky...</td>\n",
       "      <td>5</td>\n",
       "      <td>2019</td>\n",
       "      <td>Tinder</td>\n",
       "      <td>great app for meeting people and so oncheeky s...</td>\n",
       "      <td>0.7832</td>\n",
       "      <td>0.001981</td>\n",
       "      <td>0.014040</td>\n",
       "      <td>0.983979</td>\n",
       "    </tr>\n",
       "    <tr>\n",
       "      <th>157895</th>\n",
       "      <td>Sean F</td>\n",
       "      <td>Platinum version is where it's at. Take my mon...</td>\n",
       "      <td>5</td>\n",
       "      <td>2021</td>\n",
       "      <td>Tinder</td>\n",
       "      <td>platinum version is where its at take my money...</td>\n",
       "      <td>0.5938</td>\n",
       "      <td>0.036776</td>\n",
       "      <td>0.237115</td>\n",
       "      <td>0.726109</td>\n",
       "    </tr>\n",
       "  </tbody>\n",
       "</table>\n",
       "<p>157896 rows × 10 columns</p>\n",
       "</div>"
      ],
      "text/plain": [
       "                    Name                                             Review  \\\n",
       "0          Brett Wallace  SJW app that stole from tinder. Their way of f...   \n",
       "1           binidh gupta                  No match untill u buy premium ...   \n",
       "2               Sealdory  It deleted my profile saying I am under 18 eve...   \n",
       "3                 Yomi O  Bugs on bugs. I matched it a girl, we were cha...   \n",
       "4               Avik Pal  Even in premium very few mathches and people d...   \n",
       "...                  ...                                                ...   \n",
       "157891     U-Seven Tovar                                       Easy to use!   \n",
       "157892       Naeem Sahil                                           Nice app   \n",
       "157893  Caroline Gitonga                                    Great,I love it   \n",
       "157894           Jack dd  Great app for meeting people and so on..cheeky...   \n",
       "157895            Sean F  Platinum version is where it's at. Take my mon...   \n",
       "\n",
       "        Rating  Year     App  \\\n",
       "0            1  2018  Bumble   \n",
       "1            1  2019  Bumble   \n",
       "2            1  2021  Bumble   \n",
       "3            1  2016  Bumble   \n",
       "4            1  2021  Bumble   \n",
       "...        ...   ...     ...   \n",
       "157891       5  2016  Tinder   \n",
       "157892       5  2022  Tinder   \n",
       "157893       5  2021  Tinder   \n",
       "157894       5  2019  Tinder   \n",
       "157895       5  2021  Tinder   \n",
       "\n",
       "                                           cleaned_review  sentiment_score  \\\n",
       "0       sjw app that stole from tinder their way of fi...          -0.2229   \n",
       "1                           no match untill u buy premium          -0.2960   \n",
       "2       it deleted my profile saying i am under 18 eve...           0.0000   \n",
       "3       bugs on bugs i matched it a girl we were chatt...          -0.5574   \n",
       "4       even in premium very few mathches and people d...          -0.7184   \n",
       "...                                                   ...              ...   \n",
       "157891                                        easy to use           0.4404   \n",
       "157892                                           nice app           0.4215   \n",
       "157893                                     greati love it           0.6369   \n",
       "157894  great app for meeting people and so oncheeky s...           0.7832   \n",
       "157895  platinum version is where its at take my money...           0.5938   \n",
       "\n",
       "           R_neg     R_neu     R_pos  \n",
       "0       0.923939  0.071833  0.004228  \n",
       "1       0.243902  0.693450  0.062648  \n",
       "2       0.439008  0.532371  0.028621  \n",
       "3       0.797363  0.188475  0.014162  \n",
       "4       0.916284  0.078000  0.005717  \n",
       "...          ...       ...       ...  \n",
       "157891  0.022150  0.258366  0.719483  \n",
       "157892  0.010883  0.083239  0.905878  \n",
       "157893  0.007187  0.023771  0.969041  \n",
       "157894  0.001981  0.014040  0.983979  \n",
       "157895  0.036776  0.237115  0.726109  \n",
       "\n",
       "[157896 rows x 10 columns]"
      ]
     },
     "execution_count": 99,
     "metadata": {},
     "output_type": "execute_result"
    }
   ],
   "source": [
    "datingApp"
   ]
  },
  {
   "cell_type": "code",
   "execution_count": 100,
   "id": "9a41256f",
   "metadata": {},
   "outputs": [],
   "source": [
    "datingApp.to_csv('datingAppScoresValues.csv', index=False)"
   ]
  },
  {
   "cell_type": "code",
   "execution_count": null,
   "id": "cea24e49",
   "metadata": {},
   "outputs": [],
   "source": []
  }
 ],
 "metadata": {
  "kernelspec": {
   "display_name": "Python 3 (ipykernel)",
   "language": "python",
   "name": "python3"
  },
  "language_info": {
   "codemirror_mode": {
    "name": "ipython",
    "version": 3
   },
   "file_extension": ".py",
   "mimetype": "text/x-python",
   "name": "python",
   "nbconvert_exporter": "python",
   "pygments_lexer": "ipython3",
   "version": "3.11.5"
  }
 },
 "nbformat": 4,
 "nbformat_minor": 5
}
